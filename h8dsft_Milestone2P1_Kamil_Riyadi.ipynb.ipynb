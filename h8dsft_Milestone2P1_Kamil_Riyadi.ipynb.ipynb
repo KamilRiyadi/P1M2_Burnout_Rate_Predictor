{
 "cells": [
  {
   "cell_type": "markdown",
   "metadata": {},
   "source": [
    "# Milestone 2\n",
    "\n",
    "Name : `Kamil Riyadi Alam Situmeang`\n",
    "\n",
    "Batch : `FTDS009`\n",
    "\n",
    "URL Backend : https://kamil-riyadi-ftds-009-p1m2.herokuapp.com/\\\n",
    "URL Frontend: https://kamil-burnrate-p1m2.herokuapp.com/"
   ]
  },
  {
   "cell_type": "markdown",
   "metadata": {},
   "source": [
    "## I. Introduction\n",
    "\n",
    "This project is meant for fulfilling `Hacktiv8 Fulltime Datascience Bootcamp Milestone 2 assignment.`\n",
    "\n",
    "In this project, I will try to create end-to-end `Machine Learning` prediction model using several `Supervised Learning` algorithm that is available in `Sklearn` library."
   ]
  },
  {
   "cell_type": "markdown",
   "metadata": {},
   "source": [
    "### I.1 Dataset Description\n",
    "\n",
    "\n",
    "**About this dataset:**\n",
    "\n",
    "Globally, `World Mental Health Day is celebrated on October 10` each year. The objective of this day is `to raise awareness about mental health issues around the world` and mobilize efforts in support of mental health. According to an anonymous survey, about 450 million people live with mental disorders that can be one of the primary causes of poor health and disability worldwide. `These days when the world is suffering from a pandemic situation, it becomes really hard to maintain mental fitness.`\n",
    "\n",
    "------------------------------------------------------------------------------------------------------------------------------------------\n",
    "\n",
    "**Attribute Information**\n",
    "\n",
    "| Feature Name         | Description                                                                                                                                       |\n",
    "| -------------------- | ------------------------------------------------------------------------------------------------------------------------------------------------- |\n",
    "| Employee ID          | The unique ID allocated for each employee (example: fffe390032003000)                                                                             |\n",
    "| Date of Joining      | The date-time when the employee has joined the organization (example: 2008-12-30)                                                                 |\n",
    "| Gender               | The gender of the employee (Male/Female)                                                                                                          |\n",
    "| Company Type         | The type of company where the employee is working (Service/Product)                                                                               |\n",
    "| WFH Setup Available  | Is the work from home facility available for the employee (Yes/No)                                                                                |\n",
    "| Designation          | The designation of the employee of work in the organization; In the range of \\[0.0, 5.0\\] bigger is higher designation.                           |\n",
    "| Resource Allocation  | The amount of resource allocated to the employee to work, ie. number of working hours; In the range of \\[1.0, 10.0\\] (higher means more resource) |\n",
    "| Mental Fatigue Score | The level of fatigue mentally the employee is facing; In the range of \\[0.0, 10.0\\] where 0.0 means no fatigue and 10.0 means completely fatigue. |\n",
    "\n",
    "------------------------------------------------------------------------------------------------------------------------------------------\n",
    "\n",
    "| Target Name | Description                                                                                                                                                                |\n",
    "| ----------- | -------------------------------------------------------------------------------------------------------------------------------------------------------------------------- |\n",
    "| Burn Rate   | The value we need to predict for each employee telling the rate of Bur out while working; In the range of \\[0.0, 1.0\\] where the higher the value is more is the burn out. |\n",
    "\n",
    "------------------------------------------------------------------------------------------------------------------------------------------\n",
    "\n",
    "**Acknowledgements:**\n",
    "\n",
    "A special thanks to the HackerEarth Competition on the topic \"HackerEarth Machine Learning Challenge: Are your employees burning out? which can be accessed [here](https://www.kaggle.com/datasets/blurredmachine/hackerearth.com/challenges/competitive/hackerearth-machine-learning-challenge-predict-burnout-rate/) for this data collection.\n",
    "\n",
    "**License**\n",
    "\n",
    "[Open Data Commons Attribution License (ODC-By) v1.0](https://opendatacommons.org/licenses/by/1-0/index.html)"
   ]
  },
  {
   "cell_type": "markdown",
   "metadata": {},
   "source": [
    "### I.2 Objectives\n",
    "\n",
    "Create a machine learning model that can estimate the `Burn Rate` of an employee based on the given features."
   ]
  },
  {
   "cell_type": "markdown",
   "metadata": {},
   "source": [
    "### I.3 Dataset Limitation\n",
    "\n",
    "There are several limitations in the dataset that may affect the performance of the model. Those limitation are:\n",
    "- The dataset only records employee that is joining from the year 2008.\n",
    "- The dataset only records generalize `Company Type` of service and product companies."
   ]
  },
  {
   "cell_type": "markdown",
   "metadata": {},
   "source": [
    "### I.4 Assumptions for The Project\n",
    "\n",
    "For this project, I made the following assumptions:\n",
    "- The prediction model will not be employee-time bound."
   ]
  },
  {
   "cell_type": "markdown",
   "metadata": {},
   "source": [
    "## II. Import Libraries"
   ]
  },
  {
   "cell_type": "code",
   "execution_count": 1,
   "metadata": {},
   "outputs": [],
   "source": [
    "# Import Libraries\n",
    "import pandas as pd\n",
    "import numpy as np\n",
    "from datetime import datetime as dt\n",
    "from scipy import stats\n",
    "\n",
    "# Visualization\n",
    "import matplotlib.pyplot as plt\n",
    "import seaborn as sns; sns.set()\n",
    "\n",
    "# Data Preprocessing\n",
    "from sklearn.model_selection import train_test_split\n",
    "from feature_engine.outliers import OutlierTrimmer, Winsorizer\n",
    "from sklearn.preprocessing import StandardScaler\n",
    "from sklearn.preprocessing import OneHotEncoder\n",
    "from sklearn.compose import ColumnTransformer\n",
    "from sklearn.pipeline import Pipeline\n",
    "\n",
    "# Model\n",
    "from sklearn.linear_model import LinearRegression, ElasticNet\n",
    "from sklearn.svm import SVR\n",
    "from sklearn.tree import DecisionTreeRegressor\n",
    "from sklearn.ensemble import RandomForestRegressor\n",
    "\n",
    "# Model Selection and Tuning\n",
    "from sklearn.model_selection import cross_val_score, GridSearchCV\n",
    "\n",
    "# Metric\n",
    "from sklearn.metrics import mean_absolute_error, r2_score\n",
    "\n",
    "# Deployment\n",
    "import pickle\n",
    "\n",
    "import warnings\n",
    "warnings.filterwarnings(\"ignore\")"
   ]
  },
  {
   "cell_type": "markdown",
   "metadata": {},
   "source": [
    "## III. Data Loading\n"
   ]
  },
  {
   "cell_type": "code",
   "execution_count": 2,
   "metadata": {},
   "outputs": [],
   "source": [
    "# Load Data and save it in `df_og` variable\n",
    "df_train_test = pd.read_csv('train.csv')\n",
    "\n",
    "# Make copy from the df\n",
    "df = df_train_test.copy()"
   ]
  },
  {
   "cell_type": "markdown",
   "metadata": {},
   "source": [
    "### Dataset Preview"
   ]
  },
  {
   "cell_type": "code",
   "execution_count": 3,
   "metadata": {},
   "outputs": [
    {
     "data": {
      "text/html": [
       "<div>\n",
       "<style scoped>\n",
       "    .dataframe tbody tr th:only-of-type {\n",
       "        vertical-align: middle;\n",
       "    }\n",
       "\n",
       "    .dataframe tbody tr th {\n",
       "        vertical-align: top;\n",
       "    }\n",
       "\n",
       "    .dataframe thead th {\n",
       "        text-align: right;\n",
       "    }\n",
       "</style>\n",
       "<table border=\"1\" class=\"dataframe\">\n",
       "  <thead>\n",
       "    <tr style=\"text-align: right;\">\n",
       "      <th></th>\n",
       "      <th>Employee ID</th>\n",
       "      <th>Date of Joining</th>\n",
       "      <th>Gender</th>\n",
       "      <th>Company Type</th>\n",
       "      <th>WFH Setup Available</th>\n",
       "      <th>Designation</th>\n",
       "      <th>Resource Allocation</th>\n",
       "      <th>Mental Fatigue Score</th>\n",
       "      <th>Burn Rate</th>\n",
       "    </tr>\n",
       "  </thead>\n",
       "  <tbody>\n",
       "    <tr>\n",
       "      <th>0</th>\n",
       "      <td>fffe32003000360033003200</td>\n",
       "      <td>2008-09-30</td>\n",
       "      <td>Female</td>\n",
       "      <td>Service</td>\n",
       "      <td>No</td>\n",
       "      <td>2.0</td>\n",
       "      <td>3.0</td>\n",
       "      <td>3.8</td>\n",
       "      <td>0.16</td>\n",
       "    </tr>\n",
       "    <tr>\n",
       "      <th>1</th>\n",
       "      <td>fffe3700360033003500</td>\n",
       "      <td>2008-11-30</td>\n",
       "      <td>Male</td>\n",
       "      <td>Service</td>\n",
       "      <td>Yes</td>\n",
       "      <td>1.0</td>\n",
       "      <td>2.0</td>\n",
       "      <td>5.0</td>\n",
       "      <td>0.36</td>\n",
       "    </tr>\n",
       "    <tr>\n",
       "      <th>2</th>\n",
       "      <td>fffe31003300320037003900</td>\n",
       "      <td>2008-03-10</td>\n",
       "      <td>Female</td>\n",
       "      <td>Product</td>\n",
       "      <td>Yes</td>\n",
       "      <td>2.0</td>\n",
       "      <td>NaN</td>\n",
       "      <td>5.8</td>\n",
       "      <td>0.49</td>\n",
       "    </tr>\n",
       "    <tr>\n",
       "      <th>3</th>\n",
       "      <td>fffe32003400380032003900</td>\n",
       "      <td>2008-11-03</td>\n",
       "      <td>Male</td>\n",
       "      <td>Service</td>\n",
       "      <td>Yes</td>\n",
       "      <td>1.0</td>\n",
       "      <td>1.0</td>\n",
       "      <td>2.6</td>\n",
       "      <td>0.20</td>\n",
       "    </tr>\n",
       "    <tr>\n",
       "      <th>4</th>\n",
       "      <td>fffe31003900340031003600</td>\n",
       "      <td>2008-07-24</td>\n",
       "      <td>Female</td>\n",
       "      <td>Service</td>\n",
       "      <td>No</td>\n",
       "      <td>3.0</td>\n",
       "      <td>7.0</td>\n",
       "      <td>6.9</td>\n",
       "      <td>0.52</td>\n",
       "    </tr>\n",
       "  </tbody>\n",
       "</table>\n",
       "</div>"
      ],
      "text/plain": [
       "                Employee ID Date of Joining  Gender Company Type  \\\n",
       "0  fffe32003000360033003200      2008-09-30  Female      Service   \n",
       "1      fffe3700360033003500      2008-11-30    Male      Service   \n",
       "2  fffe31003300320037003900      2008-03-10  Female      Product   \n",
       "3  fffe32003400380032003900      2008-11-03    Male      Service   \n",
       "4  fffe31003900340031003600      2008-07-24  Female      Service   \n",
       "\n",
       "  WFH Setup Available  Designation  Resource Allocation  Mental Fatigue Score  \\\n",
       "0                  No          2.0                  3.0                   3.8   \n",
       "1                 Yes          1.0                  2.0                   5.0   \n",
       "2                 Yes          2.0                  NaN                   5.8   \n",
       "3                 Yes          1.0                  1.0                   2.6   \n",
       "4                  No          3.0                  7.0                   6.9   \n",
       "\n",
       "   Burn Rate  \n",
       "0       0.16  \n",
       "1       0.36  \n",
       "2       0.49  \n",
       "3       0.20  \n",
       "4       0.52  "
      ]
     },
     "execution_count": 3,
     "metadata": {},
     "output_type": "execute_result"
    }
   ],
   "source": [
    "# Show the dataset\n",
    "pd.set_option('display.max_columns', None)\n",
    "df.head()"
   ]
  },
  {
   "cell_type": "code",
   "execution_count": 4,
   "metadata": {},
   "outputs": [
    {
     "data": {
      "text/plain": [
       "(22750, 9)"
      ]
     },
     "execution_count": 4,
     "metadata": {},
     "output_type": "execute_result"
    }
   ],
   "source": [
    "# Dataset Shape\n",
    "df.shape"
   ]
  },
  {
   "cell_type": "code",
   "execution_count": 5,
   "metadata": {},
   "outputs": [
    {
     "name": "stdout",
     "output_type": "stream",
     "text": [
      "<class 'pandas.core.frame.DataFrame'>\n",
      "RangeIndex: 22750 entries, 0 to 22749\n",
      "Data columns (total 9 columns):\n",
      " #   Column                Non-Null Count  Dtype  \n",
      "---  ------                --------------  -----  \n",
      " 0   Employee ID           22750 non-null  object \n",
      " 1   Date of Joining       22750 non-null  object \n",
      " 2   Gender                22750 non-null  object \n",
      " 3   Company Type          22750 non-null  object \n",
      " 4   WFH Setup Available   22750 non-null  object \n",
      " 5   Designation           22750 non-null  float64\n",
      " 6   Resource Allocation   21369 non-null  float64\n",
      " 7   Mental Fatigue Score  20633 non-null  float64\n",
      " 8   Burn Rate             21626 non-null  float64\n",
      "dtypes: float64(4), object(5)\n",
      "memory usage: 1.6+ MB\n"
     ]
    }
   ],
   "source": [
    "# Dataset Info\n",
    "df.info()"
   ]
  },
  {
   "cell_type": "code",
   "execution_count": 6,
   "metadata": {},
   "outputs": [
    {
     "data": {
      "text/plain": [
       "Employee ID                0\n",
       "Date of Joining            0\n",
       "Gender                     0\n",
       "Company Type               0\n",
       "WFH Setup Available        0\n",
       "Designation                0\n",
       "Burn Rate               1124\n",
       "Resource Allocation     1381\n",
       "Mental Fatigue Score    2117\n",
       "dtype: int64"
      ]
     },
     "execution_count": 6,
     "metadata": {},
     "output_type": "execute_result"
    }
   ],
   "source": [
    "# Null value summary\n",
    "df.isnull().sum().sort_values()"
   ]
  },
  {
   "cell_type": "code",
   "execution_count": 7,
   "metadata": {},
   "outputs": [
    {
     "data": {
      "text/html": [
       "<div>\n",
       "<style scoped>\n",
       "    .dataframe tbody tr th:only-of-type {\n",
       "        vertical-align: middle;\n",
       "    }\n",
       "\n",
       "    .dataframe tbody tr th {\n",
       "        vertical-align: top;\n",
       "    }\n",
       "\n",
       "    .dataframe thead th {\n",
       "        text-align: right;\n",
       "    }\n",
       "</style>\n",
       "<table border=\"1\" class=\"dataframe\">\n",
       "  <thead>\n",
       "    <tr style=\"text-align: right;\">\n",
       "      <th></th>\n",
       "      <th>count</th>\n",
       "      <th>mean</th>\n",
       "      <th>std</th>\n",
       "      <th>min</th>\n",
       "      <th>50%</th>\n",
       "      <th>max</th>\n",
       "    </tr>\n",
       "  </thead>\n",
       "  <tbody>\n",
       "    <tr>\n",
       "      <th>Designation</th>\n",
       "      <td>22750.0</td>\n",
       "      <td>2.178725</td>\n",
       "      <td>1.135145</td>\n",
       "      <td>0.0</td>\n",
       "      <td>2.00</td>\n",
       "      <td>5.0</td>\n",
       "    </tr>\n",
       "    <tr>\n",
       "      <th>Resource Allocation</th>\n",
       "      <td>21369.0</td>\n",
       "      <td>4.481398</td>\n",
       "      <td>2.047211</td>\n",
       "      <td>1.0</td>\n",
       "      <td>4.00</td>\n",
       "      <td>10.0</td>\n",
       "    </tr>\n",
       "    <tr>\n",
       "      <th>Mental Fatigue Score</th>\n",
       "      <td>20633.0</td>\n",
       "      <td>5.728188</td>\n",
       "      <td>1.920839</td>\n",
       "      <td>0.0</td>\n",
       "      <td>5.90</td>\n",
       "      <td>10.0</td>\n",
       "    </tr>\n",
       "    <tr>\n",
       "      <th>Burn Rate</th>\n",
       "      <td>21626.0</td>\n",
       "      <td>0.452005</td>\n",
       "      <td>0.198226</td>\n",
       "      <td>0.0</td>\n",
       "      <td>0.45</td>\n",
       "      <td>1.0</td>\n",
       "    </tr>\n",
       "  </tbody>\n",
       "</table>\n",
       "</div>"
      ],
      "text/plain": [
       "                        count      mean       std  min   50%   max\n",
       "Designation           22750.0  2.178725  1.135145  0.0  2.00   5.0\n",
       "Resource Allocation   21369.0  4.481398  2.047211  1.0  4.00  10.0\n",
       "Mental Fatigue Score  20633.0  5.728188  1.920839  0.0  5.90  10.0\n",
       "Burn Rate             21626.0  0.452005  0.198226  0.0  0.45   1.0"
      ]
     },
     "execution_count": 7,
     "metadata": {},
     "output_type": "execute_result"
    }
   ],
   "source": [
    "# Dataset Check\n",
    "df.describe(percentiles=[0.5]).T"
   ]
  },
  {
   "cell_type": "code",
   "execution_count": 8,
   "metadata": {},
   "outputs": [
    {
     "data": {
      "text/html": [
       "<div>\n",
       "<style scoped>\n",
       "    .dataframe tbody tr th:only-of-type {\n",
       "        vertical-align: middle;\n",
       "    }\n",
       "\n",
       "    .dataframe tbody tr th {\n",
       "        vertical-align: top;\n",
       "    }\n",
       "\n",
       "    .dataframe thead th {\n",
       "        text-align: right;\n",
       "    }\n",
       "</style>\n",
       "<table border=\"1\" class=\"dataframe\">\n",
       "  <thead>\n",
       "    <tr style=\"text-align: right;\">\n",
       "      <th></th>\n",
       "      <th>count</th>\n",
       "      <th>unique</th>\n",
       "      <th>top</th>\n",
       "      <th>freq</th>\n",
       "    </tr>\n",
       "  </thead>\n",
       "  <tbody>\n",
       "    <tr>\n",
       "      <th>Employee ID</th>\n",
       "      <td>22750</td>\n",
       "      <td>22750</td>\n",
       "      <td>fffe32003000360033003200</td>\n",
       "      <td>1</td>\n",
       "    </tr>\n",
       "    <tr>\n",
       "      <th>Date of Joining</th>\n",
       "      <td>22750</td>\n",
       "      <td>366</td>\n",
       "      <td>2008-01-06</td>\n",
       "      <td>86</td>\n",
       "    </tr>\n",
       "    <tr>\n",
       "      <th>Gender</th>\n",
       "      <td>22750</td>\n",
       "      <td>2</td>\n",
       "      <td>Female</td>\n",
       "      <td>11908</td>\n",
       "    </tr>\n",
       "    <tr>\n",
       "      <th>Company Type</th>\n",
       "      <td>22750</td>\n",
       "      <td>2</td>\n",
       "      <td>Service</td>\n",
       "      <td>14833</td>\n",
       "    </tr>\n",
       "    <tr>\n",
       "      <th>WFH Setup Available</th>\n",
       "      <td>22750</td>\n",
       "      <td>2</td>\n",
       "      <td>Yes</td>\n",
       "      <td>12290</td>\n",
       "    </tr>\n",
       "  </tbody>\n",
       "</table>\n",
       "</div>"
      ],
      "text/plain": [
       "                     count unique                       top   freq\n",
       "Employee ID          22750  22750  fffe32003000360033003200      1\n",
       "Date of Joining      22750    366                2008-01-06     86\n",
       "Gender               22750      2                    Female  11908\n",
       "Company Type         22750      2                   Service  14833\n",
       "WFH Setup Available  22750      2                       Yes  12290"
      ]
     },
     "execution_count": 8,
     "metadata": {},
     "output_type": "execute_result"
    }
   ],
   "source": [
    "# Dataset Check\n",
    "df.describe(include=object).T"
   ]
  },
  {
   "cell_type": "markdown",
   "metadata": {},
   "source": [
    "Insight from `Dataset Preview` process:\n",
    "\n",
    "Based on above process, I get these information:\n",
    "\n",
    "- The dataset consist of `22750 rows` of entries and `9 columns.`\n",
    "- There are `5 features` that is `object type` and `4 features` that is `float type`\n",
    "- There are apparent missing values in `Burn Rate, Resource Allocation, Mental Fatigue Score` column. I'll check it later in the process.\n",
    "- There is no strange values in `numerical` features/columns.\n",
    "- There also no strange values in `categorical` features/columns."
   ]
  },
  {
   "cell_type": "markdown",
   "metadata": {},
   "source": [
    "## IV. Exploratory Data Analysis"
   ]
  },
  {
   "cell_type": "markdown",
   "metadata": {},
   "source": [
    "### Preliminary Check\n",
    "\n",
    "Before going deep into the dataset, Let's generaly check the dataset."
   ]
  },
  {
   "cell_type": "code",
   "execution_count": 9,
   "metadata": {},
   "outputs": [
    {
     "data": {
      "text/plain": [
       "0"
      ]
     },
     "execution_count": 9,
     "metadata": {},
     "output_type": "execute_result"
    }
   ],
   "source": [
    "# Duplicate entry check\n",
    "df.duplicated().sum()"
   ]
  },
  {
   "cell_type": "markdown",
   "metadata": {},
   "source": [
    "Looks like our dataset is free from `duplicate values.`\n",
    "Now let's get deeper with each variable."
   ]
  },
  {
   "cell_type": "code",
   "execution_count": 10,
   "metadata": {},
   "outputs": [
    {
     "name": "stdout",
     "output_type": "stream",
     "text": [
      "variable: Employee ID\n",
      "null value count:  0\n",
      "Unique Value Count: 22750\n",
      "\n",
      "fffe32003000360033003200    1\n",
      "fffe3600360035003500        1\n",
      "fffe3800360034003400        1\n",
      "fffe31003000310033003600    1\n",
      "fffe31003400350031003700    1\n",
      "                           ..\n",
      "fffe33003400340032003400    1\n",
      "fffe32003100370036003600    1\n",
      "fffe31003900310035003800    1\n",
      "fffe32003400320034003200    1\n",
      "fffe3400350031003800        1\n",
      "Name: Employee ID, Length: 22750, dtype: int64\n"
     ]
    }
   ],
   "source": [
    "# Preliminary Check\n",
    "# Feature : Employee ID\n",
    "# Description : The unique ID allocated for each employee \n",
    "\n",
    "var = 'Employee ID'\n",
    "\n",
    "print('variable:', var)\n",
    "print('null value count: ', df[var].isnull().sum())\n",
    "print('Unique Value Count:', df[var].nunique())\n",
    "print()\n",
    "print(df[var].value_counts())"
   ]
  },
  {
   "cell_type": "markdown",
   "metadata": {},
   "source": [
    "I don't really need `Employee ID` for this project, because it has unique values in all its entries and `Burn Rate` has nothing to do with `Employee ID`. So, I'll just drop it."
   ]
  },
  {
   "cell_type": "code",
   "execution_count": 11,
   "metadata": {},
   "outputs": [],
   "source": [
    "# Drop Employee ID column\n",
    "df.drop(columns=['Employee ID'], inplace=True)"
   ]
  },
  {
   "cell_type": "code",
   "execution_count": 12,
   "metadata": {},
   "outputs": [
    {
     "name": "stdout",
     "output_type": "stream",
     "text": [
      "variable: Date of Joining\n",
      "null value count:  0\n",
      "Unique Value Count: 366\n",
      "\n",
      "count          22750\n",
      "unique           366\n",
      "top       2008-01-06\n",
      "freq              86\n",
      "Name: Date of Joining, dtype: object\n"
     ]
    }
   ],
   "source": [
    "# Preliminary Check\n",
    "# Feature : Date of Joining \n",
    "# Description : The date-time when the employee has joined the organization (example: 2008-12-30)\n",
    "\n",
    "var = 'Date of Joining'\n",
    "\n",
    "print('variable:', var)\n",
    "print('null value count: ', df[var].isnull().sum())\n",
    "print('Unique Value Count:', df[var].nunique())\n",
    "print()\n",
    "print(df[var].describe())"
   ]
  },
  {
   "cell_type": "markdown",
   "metadata": {},
   "source": [
    "Looks like there is no strange values in `Date of Joining` column. I decide to rename it to `Date_of_Joining` and convert it as datetime format."
   ]
  },
  {
   "cell_type": "code",
   "execution_count": 13,
   "metadata": {},
   "outputs": [],
   "source": [
    "# Rename the column\n",
    "df.rename(columns={'Date of Joining': 'Date_of_Joining'}, inplace=True)\n",
    "\n",
    "# Convert to datetime format\n",
    "df['Date_of_Joining'] = pd.to_datetime(df['Date_of_Joining'])"
   ]
  },
  {
   "cell_type": "markdown",
   "metadata": {},
   "source": [
    "Let's continue the preliminary check"
   ]
  },
  {
   "cell_type": "code",
   "execution_count": 14,
   "metadata": {},
   "outputs": [
    {
     "name": "stdout",
     "output_type": "stream",
     "text": [
      "variable: Gender\n",
      "null value count:  0\n",
      "Unique Value Count: 2\n",
      "\n",
      "Female    11908\n",
      "Male      10842\n",
      "Name: Gender, dtype: int64\n"
     ]
    }
   ],
   "source": [
    "# Preliminary Check\n",
    "# Feature : Gender\t \n",
    "# Description : The gender of the employee (Male/Female)\n",
    "\n",
    "var = 'Gender'\n",
    "\n",
    "print('variable:', var)\n",
    "print('null value count: ', df[var].isnull().sum())\n",
    "print('Unique Value Count:', df[var].nunique())\n",
    "print()\n",
    "print(df[var].value_counts())"
   ]
  },
  {
   "cell_type": "markdown",
   "metadata": {},
   "source": [
    "I think the input values for this feature already match the expected values."
   ]
  },
  {
   "cell_type": "code",
   "execution_count": 15,
   "metadata": {},
   "outputs": [
    {
     "name": "stdout",
     "output_type": "stream",
     "text": [
      "variable: Company Type\n",
      "null value count:  0\n",
      "Unique Value Count: 2\n",
      "\n",
      "Service    14833\n",
      "Product     7917\n",
      "Name: Company Type, dtype: int64\n"
     ]
    }
   ],
   "source": [
    "# Preliminary Check\n",
    "# Feature : Company Type \n",
    "# Description : The type of company where the employee is working (Service/Product)\n",
    "\n",
    "var = 'Company Type'\n",
    "\n",
    "print('variable:', var)\n",
    "print('null value count: ', df[var].isnull().sum())\n",
    "print('Unique Value Count:', df[var].nunique())\n",
    "print()\n",
    "print(df[var].value_counts())"
   ]
  },
  {
   "cell_type": "markdown",
   "metadata": {},
   "source": [
    "I think the input values for this feature already match the expected values. I'll just rename the feature name to `Company_Type`."
   ]
  },
  {
   "cell_type": "code",
   "execution_count": 16,
   "metadata": {},
   "outputs": [],
   "source": [
    "# Rename the column\n",
    "df.rename(columns={'Company Type': 'Company_Type'}, inplace=True)"
   ]
  },
  {
   "cell_type": "code",
   "execution_count": 17,
   "metadata": {},
   "outputs": [
    {
     "name": "stdout",
     "output_type": "stream",
     "text": [
      "variable: WFH Setup Available\n",
      "null value count:  0\n",
      "Unique Value Count: 2\n",
      "\n",
      "Yes    12290\n",
      "No     10460\n",
      "Name: WFH Setup Available, dtype: int64\n"
     ]
    }
   ],
   "source": [
    "# Preliminary Check\n",
    "# Feature : WFH Setup Available \n",
    "# Description : Is the work from home facility available for the employee (Yes/No)  \n",
    "\n",
    "var = 'WFH Setup Available'\n",
    "\n",
    "print('variable:', var)\n",
    "print('null value count: ', df[var].isnull().sum())\n",
    "print('Unique Value Count:', df[var].nunique())\n",
    "print()\n",
    "print(df[var].value_counts())"
   ]
  },
  {
   "cell_type": "markdown",
   "metadata": {},
   "source": [
    "I think the input values for this feature already match the expected values. I'll just rename the feature name to `WFH_Setup_Available`."
   ]
  },
  {
   "cell_type": "code",
   "execution_count": 18,
   "metadata": {},
   "outputs": [],
   "source": [
    "# Rename the column\n",
    "df.rename(columns={'WFH Setup Available': 'WFH_Setup_Available'}, inplace=True)"
   ]
  },
  {
   "cell_type": "code",
   "execution_count": 19,
   "metadata": {},
   "outputs": [
    {
     "name": "stdout",
     "output_type": "stream",
     "text": [
      "variable: Designation\n",
      "null value count:  0\n",
      "Unique Value Count: 6\n",
      "\n",
      "Descriptive stats:\n",
      "count    22750.000000\n",
      "mean         2.178725\n",
      "std          1.135145\n",
      "min          0.000000\n",
      "25%          1.000000\n",
      "50%          2.000000\n",
      "75%          3.000000\n",
      "max          5.000000\n",
      "Name: Designation, dtype: float64\n"
     ]
    }
   ],
   "source": [
    "# Preliminary Check\n",
    "# Feature : Designation\n",
    "# Description : The designation of the employee of work in the organization; In the range of [0.0, 5.0] bigger is higher designation. \n",
    "\n",
    "var = 'Designation'\n",
    "\n",
    "print('variable:', var)\n",
    "print('null value count: ', df[var].isnull().sum())\n",
    "print('Unique Value Count:', df[var].nunique())\n",
    "print()\n",
    "print('Descriptive stats:')\n",
    "print(df[var].describe())"
   ]
  },
  {
   "cell_type": "markdown",
   "metadata": {},
   "source": [
    "I think the input values for this feature already match the expected values."
   ]
  },
  {
   "cell_type": "code",
   "execution_count": 20,
   "metadata": {},
   "outputs": [
    {
     "name": "stdout",
     "output_type": "stream",
     "text": [
      "variable: Resource Allocation\n",
      "null value count:  1381\n",
      "Unique Value Count: 10\n",
      "\n",
      "Descriptive stats:\n",
      "count    21369.000000\n",
      "mean         4.481398\n",
      "std          2.047211\n",
      "min          1.000000\n",
      "25%          3.000000\n",
      "50%          4.000000\n",
      "75%          6.000000\n",
      "max         10.000000\n",
      "Name: Resource Allocation, dtype: float64\n"
     ]
    }
   ],
   "source": [
    "# Preliminary Check\n",
    "# Feature : Resource Allocation\n",
    "# Description : The amount of resource allocated to the employee to work, ie. number of working hours; In the range of [1.0, 10.0] (higher means more resource) \n",
    "\n",
    "var = 'Resource Allocation'\n",
    "\n",
    "print('variable:', var)\n",
    "print('null value count: ', df[var].isnull().sum())\n",
    "print('Unique Value Count:', df[var].nunique())\n",
    "print()\n",
    "print('Descriptive stats:')\n",
    "print(df[var].describe())"
   ]
  },
  {
   "cell_type": "markdown",
   "metadata": {},
   "source": [
    "Looks like there are 1381 of missing values, I'll handle it in later process, for now I'll just rename the column name to `Resource_Allocation`"
   ]
  },
  {
   "cell_type": "code",
   "execution_count": 21,
   "metadata": {},
   "outputs": [],
   "source": [
    "# Rename the column\n",
    "df.rename(columns={'Resource Allocation': 'Resource_Allocation'}, inplace=True)"
   ]
  },
  {
   "cell_type": "code",
   "execution_count": 22,
   "metadata": {},
   "outputs": [
    {
     "name": "stdout",
     "output_type": "stream",
     "text": [
      "variable: Mental Fatigue Score\n",
      "null value count:  2117\n",
      "Unique Value Count: 101\n",
      "\n",
      "Descriptive stats:\n",
      "count    20633.000000\n",
      "mean         5.728188\n",
      "std          1.920839\n",
      "min          0.000000\n",
      "25%          4.600000\n",
      "50%          5.900000\n",
      "75%          7.100000\n",
      "max         10.000000\n",
      "Name: Mental Fatigue Score, dtype: float64\n"
     ]
    }
   ],
   "source": [
    "# Preliminary Check\n",
    "# Feature : Mental Fatigue Score \n",
    "# Description : The level of fatigue mentally the employee is facing; In the range of [0.0, 10.0] where 0.0 means no fatigue and 10.0 means completely fatigue  \n",
    "\n",
    "var = 'Mental Fatigue Score'\n",
    "\n",
    "print('variable:', var)\n",
    "print('null value count: ', df[var].isnull().sum())\n",
    "print('Unique Value Count:', df[var].nunique())\n",
    "print()\n",
    "print('Descriptive stats:')\n",
    "print(df[var].describe())"
   ]
  },
  {
   "cell_type": "markdown",
   "metadata": {},
   "source": [
    "Looks like there are 2117 of missing values, I'll handle it in later process, for now I'll just rename the column name to `Mental_Fatigue_Score`"
   ]
  },
  {
   "cell_type": "code",
   "execution_count": 23,
   "metadata": {},
   "outputs": [],
   "source": [
    "# Rename the column\n",
    "df.rename(columns={'Mental Fatigue Score': 'Mental_Fatigue_Score'}, inplace=True)"
   ]
  },
  {
   "cell_type": "code",
   "execution_count": 24,
   "metadata": {},
   "outputs": [
    {
     "name": "stdout",
     "output_type": "stream",
     "text": [
      "variable: Burn Rate\n",
      "null value count:  1124\n",
      "Unique Value Count: 101\n",
      "\n",
      "Descriptive stats:\n",
      "count    21626.000000\n",
      "mean         0.452005\n",
      "std          0.198226\n",
      "min          0.000000\n",
      "25%          0.310000\n",
      "50%          0.450000\n",
      "75%          0.590000\n",
      "max          1.000000\n",
      "Name: Burn Rate, dtype: float64\n"
     ]
    }
   ],
   "source": [
    "# Preliminary Check\n",
    "# Feature : Burn Rate \n",
    "# Description : The value we need to predict for each employee telling the rate of Bur out while working; In the range of [0.0, 1.0] where the higher the value is more is the burn out.\n",
    "\n",
    "var = 'Burn Rate'\n",
    "\n",
    "print('variable:', var)\n",
    "print('null value count: ', df[var].isnull().sum())\n",
    "print('Unique Value Count:', df[var].nunique())\n",
    "print()\n",
    "print('Descriptive stats:')\n",
    "print(df[var].describe())"
   ]
  },
  {
   "cell_type": "markdown",
   "metadata": {},
   "source": [
    "Looks like there are 1124 of missing values, I'll handle it in later process, for now I'll just rename the column name to `Burn_Rate`"
   ]
  },
  {
   "cell_type": "code",
   "execution_count": 25,
   "metadata": {},
   "outputs": [],
   "source": [
    "# Rename the column\n",
    "df.rename(columns={'Burn Rate': 'Burn_Rate'}, inplace=True)"
   ]
  },
  {
   "cell_type": "markdown",
   "metadata": {},
   "source": [
    "### Univaraite Analysis\n",
    "\n",
    "In this part of sub-process, I'll try to plot the histogram of numerical features and see the distribution of each feature."
   ]
  },
  {
   "cell_type": "code",
   "execution_count": 26,
   "metadata": {},
   "outputs": [
    {
     "data": {
      "image/png": "[encoded data removed]",
      "text/plain": [
       "<Figure size 1080x1080 with 6 Axes>"
      ]
     },
     "metadata": {},
     "output_type": "display_data"
    }
   ],
   "source": [
    "# Histogram Plot\n",
    "df.hist()\n",
    "plt.gcf().set_size_inches(15, 15)\n",
    "plt.show()"
   ]
  },
  {
   "cell_type": "markdown",
   "metadata": {},
   "source": [
    "From the graph above, We can see that:\n",
    "- `Designation and Burn Rate` follow `normal distribution.`\n",
    "- `Resource Allocation and Mental Fatigue Score` follow slight `skew distribution.`"
   ]
  },
  {
   "cell_type": "markdown",
   "metadata": {},
   "source": [
    "### Bivariate Analysis\n",
    "\n",
    "In this part of sub-process, I'll try to analyze each individual feature and their correlation with the target."
   ]
  },
  {
   "cell_type": "code",
   "execution_count": 27,
   "metadata": {},
   "outputs": [
    {
     "data": {
      "image/png": "[encoded data removed]",
      "text/plain": [
       "<Figure size 3456x576 with 3 Axes>"
      ]
     },
     "metadata": {},
     "output_type": "display_data"
    }
   ],
   "source": [
    "# Categorical Bivariate Analysis\n",
    "fig, ax = plt.subplots(1,3, figsize=(24 * 2, 8))\n",
    "fig.suptitle('Burn Rate', fontsize=25, weight='bold')\n",
    "\n",
    "graph1 = pd.DataFrame(df.groupby('Gender')['Burn_Rate'].mean()).reset_index()\n",
    "sns.barplot(data=graph1, x='Gender', y='Burn_Rate', ax=ax[0])\n",
    "ax[0].set_title('by Gender', weight='bold', fontsize=20)\n",
    "\n",
    "graph2 = pd.DataFrame(df.groupby('Company_Type')['Burn_Rate'].mean()).reset_index()\n",
    "sns.barplot(data=graph2, x='Company_Type', y='Burn_Rate', ax=ax[1])\n",
    "ax[1].set_title('by Company Type', weight='bold', fontsize=20)\n",
    "\n",
    "graph3 = pd.DataFrame(df.groupby('WFH_Setup_Available')['Burn_Rate'].mean()).reset_index()\n",
    "sns.barplot(data=graph3, x='WFH_Setup_Available', y='Burn_Rate', ax=ax[2])\n",
    "ax[2].set_title('by WFH Setup Available', weight='bold', fontsize=20)\n",
    "\n",
    "plt.show()"
   ]
  },
  {
   "cell_type": "markdown",
   "metadata": {},
   "source": [
    "**Categorical Bivariate Analysis**\n",
    "\n",
    "Based from graph above, We can see that:\n",
    "- `By Gender` : Male tends to has higher `Burn Rate` compared to Female\n",
    "- `By Company Type` : Both `Product and Service` industry has equal `Burn Rate`\n",
    "- `By WFH Setup Available` : People that has no option for working from home has higher `Burn Rate` compared to people that has opt to work from home."
   ]
  },
  {
   "cell_type": "code",
   "execution_count": 28,
   "metadata": {},
   "outputs": [
    {
     "data": {
      "image/png": "[encoded data removed]",
      "text/plain": [
       "<Figure size 3456x1440 with 3 Axes>"
      ]
     },
     "metadata": {},
     "output_type": "display_data"
    }
   ],
   "source": [
    "# Numerical Bivariate Analysis\n",
    "fig, ax = plt.subplots(3,1, figsize=(24 * 2, 20))\n",
    "fig.suptitle('Burn Rate', fontsize=25, weight='bold')\n",
    "\n",
    "sns.boxplot(data=df, x='Designation', y='Burn_Rate', ax=ax[0])\n",
    "ax[0].set_title('With Designation', weight='bold', fontsize=20)\n",
    "\n",
    "sns.boxplot(data=df, x='Resource_Allocation', y='Burn_Rate', ax=ax[1])\n",
    "ax[1].set_title('With Resource Allocation', weight='bold', fontsize=20)\n",
    "\n",
    "sns.lineplot(data=df, x='Mental_Fatigue_Score', y='Burn_Rate', ax=ax[2])\n",
    "ax[2].set_title('With Mental Fatigue Score', weight='bold', fontsize=20)\n",
    "\n",
    "plt.show()"
   ]
  },
  {
   "cell_type": "markdown",
   "metadata": {},
   "source": [
    "**Numerical Bivariate Analysis**\n",
    "\n",
    "Based from graph above, We can see that:\n",
    "- `With Designation` : As `Designation` increase, `Burn Rate` also tends to increase.\n",
    "- `With Resource Allocation` : As `Resource Allocation` increase, `Burn Rate` also tends to increase.\n",
    "- `Mental Fatigue Designation` : As `Mental Fatigue` increase, `Burn Rate` also tends to increase."
   ]
  },
  {
   "cell_type": "markdown",
   "metadata": {},
   "source": [
    "### Multivariate  Analysis\n",
    "\n",
    "In this part of sub-process, I will try to map the correlation between each features to the target variable. For this task I'll utilize the most common type of correlation coeffiecient which is `Pearson Correlation` and try to plot it in a graph."
   ]
  },
  {
   "cell_type": "code",
   "execution_count": 29,
   "metadata": {},
   "outputs": [
    {
     "data": {
      "image/png": "[encoded data removed]",
      "text/plain": [
       "<Figure size 1080x1080 with 2 Axes>"
      ]
     },
     "metadata": {},
     "output_type": "display_data"
    }
   ],
   "source": [
    "# Checking correlation between each variables\n",
    "\n",
    "# Heatmap\n",
    "corrmat = df.corr()\n",
    "top_corr_feature = corrmat.index\n",
    "\n",
    "plt.figure(figsize=(15,15))\n",
    "\n",
    "g = sns.heatmap(df[top_corr_feature].corr(), annot=True, cmap='RdYlGn', square=1, linewidths=0.05)"
   ]
  },
  {
   "cell_type": "code",
   "execution_count": 30,
   "metadata": {},
   "outputs": [
    {
     "data": {
      "image/png": "[encoded data removed]",
      "text/plain": [
       "<Figure size 1440x720 with 1 Axes>"
      ]
     },
     "metadata": {},
     "output_type": "display_data"
    }
   ],
   "source": [
    "# Checking correlation between features and target\n",
    "\n",
    "df.corrwith(df['Burn_Rate']).sort_values().plot.bar(figsize=(20,10), title='Correlation with `Burn_Rate`', fontsize=12, rot=45, grid=True)\n",
    "plt.show()"
   ]
  },
  {
   "cell_type": "markdown",
   "metadata": {},
   "source": [
    "Based on graph above, I can say that all features has high positive correlation with `Burn_Rate.`\n",
    "\n",
    "Also from the correaltion above, I can validate the pattern found on `numerical bivaraite analysis` in the previous process."
   ]
  },
  {
   "cell_type": "markdown",
   "metadata": {},
   "source": [
    "## V. Data Preprocessing\n",
    "\n",
    "In this process I  split my dataset into train, test, and inference dataset."
   ]
  },
  {
   "cell_type": "markdown",
   "metadata": {},
   "source": [
    "### Dataset Splitting\n",
    "\n",
    "In this process, I will split my dataset into different set:\n",
    "\n",
    "1. Use 80% from dataset for `Train Set`\n",
    "2. Use 20% from dataset for `Test Set`\n",
    "3. Use `Test.csv` for `Inference Set`\n",
    "\n",
    "all of those entries will be randomly selected from the dataset."
   ]
  },
  {
   "cell_type": "code",
   "execution_count": 31,
   "metadata": {},
   "outputs": [],
   "source": [
    "#Set Random State\n",
    "random_state = 42"
   ]
  },
  {
   "cell_type": "code",
   "execution_count": 32,
   "metadata": {},
   "outputs": [
    {
     "data": {
      "text/plain": [
       "(12250, 8)"
      ]
     },
     "execution_count": 32,
     "metadata": {},
     "output_type": "execute_result"
    }
   ],
   "source": [
    "# Inference Set Preparation\n",
    "\n",
    "inf_set = pd.read_csv('test.csv')\n",
    "inf_set.shape"
   ]
  },
  {
   "cell_type": "code",
   "execution_count": 33,
   "metadata": {},
   "outputs": [],
   "source": [
    "# Splitting Dataset\n",
    "\n",
    "# X will be consist of features only\n",
    "X = df.drop(['Burn_Rate'], axis=1)\n",
    "\n",
    "# y will be consist of target only\n",
    "y = df['Burn_Rate']"
   ]
  },
  {
   "cell_type": "code",
   "execution_count": 34,
   "metadata": {},
   "outputs": [],
   "source": [
    "# Splitting the dataset into the Training set and Test set\n",
    "X_train, X_test, y_train, y_test = train_test_split(X, y, test_size=0.3, random_state=random_state)"
   ]
  },
  {
   "cell_type": "code",
   "execution_count": 35,
   "metadata": {},
   "outputs": [
    {
     "name": "stdout",
     "output_type": "stream",
     "text": [
      "Train Set shape :  (15925, 7)\n",
      "Test Set shape :  (6825, 7)\n",
      "Inference Set shape :  (12250, 8)\n"
     ]
    }
   ],
   "source": [
    "# Size Summary\n",
    "\n",
    "print('Train Set shape : ', X_train.shape)\n",
    "print('Test Set shape : ', X_test.shape)\n",
    "print('Inference Set shape : ', inf_set.shape)"
   ]
  },
  {
   "cell_type": "markdown",
   "metadata": {},
   "source": [
    "### Outliers Detection\n",
    "\n",
    "In this sub-process, I will try to identify any outliers inside each `numerical` features. Before do the checking, I'll seperate the features into `numerical` and `categorical` features and then:\n",
    "\n",
    "- I'll check the distribution of each variable, using skewness value. Any skewness value outside `-0.5 to 0.5` will be considered as `Skewed Distribution`, while any skewness value inside `-0.5 to 0.5` will be considered as `Normal Distribution`.\n",
    "- I'll count how many outliers there in each variable. For `Normal Distribution`, I'll use `Z-score` to determine the outliers threshold. For `Skewed Distribution`, I'll use `IQR` to determine the outliers threshold.\n",
    "- Summarize all the information above."
   ]
  },
  {
   "cell_type": "code",
   "execution_count": 36,
   "metadata": {},
   "outputs": [
    {
     "name": "stdout",
     "output_type": "stream",
     "text": [
      "Generate 'X_train_num' and 'X_train_cat'\n"
     ]
    }
   ],
   "source": [
    "# column categorization\n",
    "def col_categorization(df):\n",
    "    global X_train_num, X_train_cat\n",
    "    X_train_num = df[['Designation', 'Resource_Allocation', 'Mental_Fatigue_Score']]\n",
    "    X_train_cat = df[['Gender', 'Company_Type', 'WFH_Setup_Available']]\n",
    "    print(\"Generate 'X_train_num' and 'X_train_cat'\")\n",
    "\n",
    "# column categorization\n",
    "col_categorization(X_train)"
   ]
  },
  {
   "cell_type": "code",
   "execution_count": 37,
   "metadata": {},
   "outputs": [
    {
     "data": {
      "text/html": [
       "<div>\n",
       "<style scoped>\n",
       "    .dataframe tbody tr th:only-of-type {\n",
       "        vertical-align: middle;\n",
       "    }\n",
       "\n",
       "    .dataframe tbody tr th {\n",
       "        vertical-align: top;\n",
       "    }\n",
       "\n",
       "    .dataframe thead th {\n",
       "        text-align: right;\n",
       "    }\n",
       "</style>\n",
       "<table border=\"1\" class=\"dataframe\">\n",
       "  <thead>\n",
       "    <tr style=\"text-align: right;\">\n",
       "      <th></th>\n",
       "      <th>Designation</th>\n",
       "      <th>Resource_Allocation</th>\n",
       "      <th>Mental_Fatigue_Score</th>\n",
       "    </tr>\n",
       "  </thead>\n",
       "  <tbody>\n",
       "    <tr>\n",
       "      <th>6506</th>\n",
       "      <td>2.0</td>\n",
       "      <td>4.0</td>\n",
       "      <td>5.4</td>\n",
       "    </tr>\n",
       "    <tr>\n",
       "      <th>12239</th>\n",
       "      <td>3.0</td>\n",
       "      <td>4.0</td>\n",
       "      <td>6.3</td>\n",
       "    </tr>\n",
       "    <tr>\n",
       "      <th>12441</th>\n",
       "      <td>2.0</td>\n",
       "      <td>4.0</td>\n",
       "      <td>6.1</td>\n",
       "    </tr>\n",
       "    <tr>\n",
       "      <th>8366</th>\n",
       "      <td>2.0</td>\n",
       "      <td>5.0</td>\n",
       "      <td>7.6</td>\n",
       "    </tr>\n",
       "    <tr>\n",
       "      <th>16802</th>\n",
       "      <td>3.0</td>\n",
       "      <td>7.0</td>\n",
       "      <td>8.8</td>\n",
       "    </tr>\n",
       "  </tbody>\n",
       "</table>\n",
       "</div>"
      ],
      "text/plain": [
       "       Designation  Resource_Allocation  Mental_Fatigue_Score\n",
       "6506           2.0                  4.0                   5.4\n",
       "12239          3.0                  4.0                   6.3\n",
       "12441          2.0                  4.0                   6.1\n",
       "8366           2.0                  5.0                   7.6\n",
       "16802          3.0                  7.0                   8.8"
      ]
     },
     "execution_count": 37,
     "metadata": {},
     "output_type": "execute_result"
    }
   ],
   "source": [
    "# Confirmation Check\n",
    "X_train_num.head()"
   ]
  },
  {
   "cell_type": "code",
   "execution_count": 38,
   "metadata": {},
   "outputs": [],
   "source": [
    "# create function to detect outliers based on distribution\n",
    "def detect_outliers(df, k=1.5):\n",
    "    #create dataframe with columns name : feature, distribution, outlier\n",
    "    global df_outliers\n",
    "    df_outliers = pd.DataFrame(columns=['col_name','distribution','bottom_limit', 'upper_limit', 'left_tail','right_tail','outliers_count','percentage'])\n",
    "    #create loop for each feature\n",
    "    for i in range(len(df.columns)):\n",
    "        #create if statement for each distribution\n",
    "        if df.iloc[:,i].skew() > -0.5 and df.iloc[:,i].skew() < 0.5 :\n",
    "            #count outlier for normal distribution based on z-score\n",
    "            df_outliers.loc[i] = [df.columns[i], # col_name\n",
    "                                'normal', # distribution,\n",
    "                                stats.zscore(df.iloc[:,i], nan_policy='omit').min(), # bottom limit\n",
    "                                stats.zscore(df.iloc[:,i], nan_policy='omit').max(), # upper limit\n",
    "                                df.iloc[:,i][(stats.zscore(df.iloc[:,i],nan_policy='omit'))<-3].count(), # left_tail\n",
    "                                df.iloc[:,i][(stats.zscore(df.iloc[:,i],nan_policy='omit'))>3].count(), # right_tail\n",
    "                                df.iloc[:,i][abs(stats.zscore(df.iloc[:,i],nan_policy='omit'))>3].count(), # outliers_count\n",
    "                                df.iloc[:,i][abs(stats.zscore(df.iloc[:,i],nan_policy='omit'))>3].count()/len(df.iloc[:,i])*100] # percentage\n",
    "        else:\n",
    "            #count outlier for skew distribution based on IQR\n",
    "            Q1 = df.iloc[:,i].quantile(0.25)\n",
    "            Q3 = df.iloc[:,i].quantile(0.75)\n",
    "            IQR = Q3 - Q1\n",
    "            df_outliers.loc[i] = [df.columns[i], # col_name\n",
    "                                'skew', # distribution,\n",
    "                                Q1-k*IQR, # bottom limit\n",
    "                                Q1+k*IQR, # upper limit\n",
    "                                df.iloc[:,i][(df.iloc[:,i]<(Q1-1.5*IQR))].count(), # left_tail\n",
    "                                df.iloc[:,i][(df.iloc[:,i]>(Q3+1.5*IQR))].count(), # right_tail\n",
    "                                df.iloc[:,i][(df.iloc[:,i]<(Q1-1.5*IQR))|(df.iloc[:,i]>(Q3+1.5*IQR))].count(), # outliers_count\n",
    "                                df.iloc[:,i][(df.iloc[:,i]<(Q1-1.5*IQR))|(df.iloc[:,i]>(Q3+1.5*IQR))].count()/len(df.iloc[:,i])*100] # percentage\n",
    "    print('Generate df_outliers')\n"
   ]
  },
  {
   "cell_type": "code",
   "execution_count": 39,
   "metadata": {},
   "outputs": [
    {
     "name": "stdout",
     "output_type": "stream",
     "text": [
      "Generate df_outliers\n"
     ]
    },
    {
     "data": {
      "text/html": [
       "<div>\n",
       "<style scoped>\n",
       "    .dataframe tbody tr th:only-of-type {\n",
       "        vertical-align: middle;\n",
       "    }\n",
       "\n",
       "    .dataframe tbody tr th {\n",
       "        vertical-align: top;\n",
       "    }\n",
       "\n",
       "    .dataframe thead th {\n",
       "        text-align: right;\n",
       "    }\n",
       "</style>\n",
       "<table border=\"1\" class=\"dataframe\">\n",
       "  <thead>\n",
       "    <tr style=\"text-align: right;\">\n",
       "      <th></th>\n",
       "      <th>col_name</th>\n",
       "      <th>distribution</th>\n",
       "      <th>bottom_limit</th>\n",
       "      <th>upper_limit</th>\n",
       "      <th>left_tail</th>\n",
       "      <th>right_tail</th>\n",
       "      <th>outliers_count</th>\n",
       "      <th>percentage</th>\n",
       "    </tr>\n",
       "  </thead>\n",
       "  <tbody>\n",
       "    <tr>\n",
       "      <th>0</th>\n",
       "      <td>Designation</td>\n",
       "      <td>normal</td>\n",
       "      <td>-1.911687</td>\n",
       "      <td>2.479938</td>\n",
       "      <td>0</td>\n",
       "      <td>0</td>\n",
       "      <td>0</td>\n",
       "      <td>0.0</td>\n",
       "    </tr>\n",
       "    <tr>\n",
       "      <th>1</th>\n",
       "      <td>Resource_Allocation</td>\n",
       "      <td>normal</td>\n",
       "      <td>-1.692259</td>\n",
       "      <td>2.694652</td>\n",
       "      <td>0</td>\n",
       "      <td>0</td>\n",
       "      <td>0</td>\n",
       "      <td>0.0</td>\n",
       "    </tr>\n",
       "    <tr>\n",
       "      <th>2</th>\n",
       "      <td>Mental_Fatigue_Score</td>\n",
       "      <td>normal</td>\n",
       "      <td>-2.978224</td>\n",
       "      <td>2.220878</td>\n",
       "      <td>0</td>\n",
       "      <td>0</td>\n",
       "      <td>0</td>\n",
       "      <td>0.0</td>\n",
       "    </tr>\n",
       "  </tbody>\n",
       "</table>\n",
       "</div>"
      ],
      "text/plain": [
       "               col_name distribution  bottom_limit  upper_limit  left_tail  \\\n",
       "0           Designation       normal     -1.911687     2.479938          0   \n",
       "1   Resource_Allocation       normal     -1.692259     2.694652          0   \n",
       "2  Mental_Fatigue_Score       normal     -2.978224     2.220878          0   \n",
       "\n",
       "   right_tail  outliers_count  percentage  \n",
       "0           0               0         0.0  \n",
       "1           0               0         0.0  \n",
       "2           0               0         0.0  "
      ]
     },
     "execution_count": 39,
     "metadata": {},
     "output_type": "execute_result"
    }
   ],
   "source": [
    "# Outliers Summary\n",
    "detect_outliers(X_train_num)\n",
    "df_outliers.sort_values(by='percentage',ascending=False)"
   ]
  },
  {
   "cell_type": "markdown",
   "metadata": {},
   "source": [
    "Looks like there is no outliers in the dataset, So let's continue the process."
   ]
  },
  {
   "cell_type": "code",
   "execution_count": 40,
   "metadata": {},
   "outputs": [],
   "source": [
    "# #create function to handling outliers\n",
    "# def handling_outliers(exception_list):\n",
    "#    global X_train,y_train, norm_under_5, norm_5to15, skew_under_5, skew_5to15\n",
    "#    exception_list = exception_list\n",
    "\n",
    "#    norm_under_5 = df_outliers[df_outliers['distribution']=='normal'][df_outliers['percentage']<5]['col_name'].tolist()\n",
    "#    norm_5to15 = df_outliers[df_outliers['distribution']=='normal'][df_outliers['percentage']>5][df_outliers['percentage']<15]['col_name'].tolist()\n",
    "#    skew_under_5 = df_outliers[df_outliers['distribution']=='skew'][df_outliers['percentage']<5]['col_name'].tolist()\n",
    "#    skew_5to15 = df_outliers[df_outliers['distribution']=='skew'][df_outliers['percentage']>5][df_outliers['percentage']<15]['col_name'].tolist() \n",
    "\n",
    "#    norm_under_5 = [x for x in norm_under_5 if x not in exception_list]\n",
    "#    norm_5to15 = [x for x in norm_5to15 if x not in exception_list]\n",
    "#    skew_under_5 = [x for x in skew_under_5 if x not in exception_list]\n",
    "#    skew_5to15 = [x for x in skew_5to15 if x not in exception_list]\n",
    "\n",
    "\n",
    "#    custom_list = ['norm_under_5','norm_over_5','skew_under_5','skew_over_5']\n",
    "\n",
    "#    for i in custom_list: \n",
    "#       if i == 'norm_under_5' and len(norm_under_5)!= 0:\n",
    "         \n",
    "#          trim_norm = OutlierTrimmer(capping_method='gaussian',\n",
    "#                                     tail='both', # left/right/both\n",
    "#                                     fold=3, # for gaussian 2 or 3\n",
    "#                                     variables=norm_under_5,\n",
    "#                                     missing_values='ignore')    \n",
    "#          trim_norm.fit(X_train)\n",
    "\n",
    "#          df = trim_norm.transform(X_train)\n",
    "         \n",
    "#          #intersection of y_train and X_train index location\n",
    "#          y_train = y_train.loc[y_train.index.intersection(X_train.index)]\n",
    "\n",
    "#       elif i == 'norm_over_5' and len(norm_5to15)!= 0:\n",
    "\n",
    "#          winsorizer_norm = Winsorizer(capping_method='gaussian',\n",
    "#                                     tail='both', # left/right/both\n",
    "#                                     fold=3, # for gaussian 2 or 3\n",
    "#                                     variables=norm_5to15,\n",
    "#                                     missing_values='ignore')    \n",
    "#          winsorizer_norm.fit(X_train)\n",
    "\n",
    "#          X_train = winsorizer_norm.transform(X_train)\n",
    "       \n",
    "   \n",
    "#       elif i == 'skew_under_5'and len(skew_under_5)!= 0:\n",
    "         \n",
    "#          trim_skew = OutlierTrimmer(capping_method='iqr',\n",
    "#                                     tail='both', # left/right/both\n",
    "#                                     fold=1.5, # for iqr 1 or 2\n",
    "#                                     variables=skew_under_5,\n",
    "#                                     missing_values='ignore')    \n",
    "#          trim_skew.fit(X_train)\n",
    "\n",
    "#          X_train = trim_skew.transform(X_train)\n",
    "\n",
    "#          #intersection of y_train and X_train\n",
    "#          y_train = y_train.loc[y_train.index.intersection(X_train.index)]\n",
    "   \n",
    "#       elif i == 'skew_over_5' and len(skew_5to15)!= 0:\n",
    "\n",
    "#          winsorizer_skew = Winsorizer(capping_method='iqr',\n",
    "#                                     tail='both', # left/right/both\n",
    "#                                     fold=1.5, # for iqr 1 or 2\n",
    "#                                     variables=skew_5to15,\n",
    "#                                     missing_values='ignore')    \n",
    "#          winsorizer_skew.fit(X_train)\n",
    "\n",
    "#          X_train = winsorizer_skew.transform(X_train)"
   ]
  },
  {
   "cell_type": "markdown",
   "metadata": {},
   "source": [
    "### Missing Value Detection\n",
    "\n",
    "In this sub-process, I will handle any missing value inside the dataset.\n",
    "\n",
    "First, let's check missing value in the target dataset."
   ]
  },
  {
   "cell_type": "code",
   "execution_count": 41,
   "metadata": {},
   "outputs": [
    {
     "data": {
      "text/plain": [
       "773"
      ]
     },
     "execution_count": 41,
     "metadata": {},
     "output_type": "execute_result"
    }
   ],
   "source": [
    "# Missing Value check\n",
    "# y_train Set\n",
    "y_train.isna().sum()"
   ]
  },
  {
   "cell_type": "code",
   "execution_count": 42,
   "metadata": {},
   "outputs": [
    {
     "data": {
      "text/plain": [
       "351"
      ]
     },
     "execution_count": 42,
     "metadata": {},
     "output_type": "execute_result"
    }
   ],
   "source": [
    "# Missing Value check\n",
    "# y_test Set\n",
    "y_test.isna().sum()"
   ]
  },
  {
   "cell_type": "markdown",
   "metadata": {},
   "source": [
    "Because there are missing values inside the target variable, I'll drop them here to preserve the quality of my dataset. I think imputing new values into the target variable will cause false perception for the machine learning model."
   ]
  },
  {
   "cell_type": "code",
   "execution_count": 43,
   "metadata": {},
   "outputs": [
    {
     "name": "stdout",
     "output_type": "stream",
     "text": [
      "y_train Before :  (15925,)\n",
      "y_test Before :  (15925,)\n",
      "\n",
      "y_train After :  (15152,)\n",
      "y_test After :  (15152,)\n"
     ]
    }
   ],
   "source": [
    "# Shape Before\n",
    "print('y_train Before : ',y_train.shape)\n",
    "print('y_test Before : ',y_train.shape)\n",
    "\n",
    "# Handle missing value in the target variable\n",
    "y_train.dropna(inplace=True)\n",
    "y_test.dropna(inplace=True)\n",
    "\n",
    "# Handle missing value in the features\n",
    "X_train = X_train[X_train.index.isin(y_train.index)]\n",
    "X_test = X_test[X_test.index.isin(y_test.index)]\n",
    "\n",
    "# Shape After\n",
    "print()\n",
    "print('y_train After : ',y_train.shape)\n",
    "print('y_test After : ',y_train.shape)"
   ]
  },
  {
   "cell_type": "markdown",
   "metadata": {},
   "source": [
    "Now let's check missing value inside the feature variables."
   ]
  },
  {
   "cell_type": "code",
   "execution_count": 44,
   "metadata": {},
   "outputs": [],
   "source": [
    "# create function to detect missing values\n",
    "\n",
    "def detect_missval(df):\n",
    "    global df_missval\n",
    "    df_missval = pd.DataFrame(columns=['col_name','missing_count','missing_percentage'])\n",
    "    for i in range(len(df.columns)):\n",
    "        if df.iloc[:,i].isnull().sum() != 0:\n",
    "            df_missval.loc[i] = [df.columns[i], # col_name\n",
    "                                df.iloc[:,i].isnull().sum(), # missing_count\n",
    "                                df.iloc[:,i].isnull().sum()/len(df.iloc[:,i])*100] # missing_percentage\n",
    "    print('Generate df_missval')\n",
    "    return df_missval"
   ]
  },
  {
   "cell_type": "code",
   "execution_count": 45,
   "metadata": {},
   "outputs": [
    {
     "name": "stdout",
     "output_type": "stream",
     "text": [
      "Generate df_missval\n"
     ]
    },
    {
     "data": {
      "text/html": [
       "<div>\n",
       "<style scoped>\n",
       "    .dataframe tbody tr th:only-of-type {\n",
       "        vertical-align: middle;\n",
       "    }\n",
       "\n",
       "    .dataframe tbody tr th {\n",
       "        vertical-align: top;\n",
       "    }\n",
       "\n",
       "    .dataframe thead th {\n",
       "        text-align: right;\n",
       "    }\n",
       "</style>\n",
       "<table border=\"1\" class=\"dataframe\">\n",
       "  <thead>\n",
       "    <tr style=\"text-align: right;\">\n",
       "      <th></th>\n",
       "      <th>col_name</th>\n",
       "      <th>missing_count</th>\n",
       "      <th>missing_percentage</th>\n",
       "    </tr>\n",
       "  </thead>\n",
       "  <tbody>\n",
       "    <tr>\n",
       "      <th>5</th>\n",
       "      <td>Resource_Allocation</td>\n",
       "      <td>877</td>\n",
       "      <td>5.788015</td>\n",
       "    </tr>\n",
       "    <tr>\n",
       "      <th>6</th>\n",
       "      <td>Mental_Fatigue_Score</td>\n",
       "      <td>1387</td>\n",
       "      <td>9.153907</td>\n",
       "    </tr>\n",
       "  </tbody>\n",
       "</table>\n",
       "</div>"
      ],
      "text/plain": [
       "               col_name  missing_count  missing_percentage\n",
       "5   Resource_Allocation            877            5.788015\n",
       "6  Mental_Fatigue_Score           1387            9.153907"
      ]
     },
     "execution_count": 45,
     "metadata": {},
     "output_type": "execute_result"
    }
   ],
   "source": [
    "# Missing Value check\n",
    "# X_train Set\n",
    "detect_missval(X_train)"
   ]
  },
  {
   "cell_type": "code",
   "execution_count": 46,
   "metadata": {},
   "outputs": [
    {
     "name": "stdout",
     "output_type": "stream",
     "text": [
      "Generate df_missval\n"
     ]
    },
    {
     "data": {
      "text/html": [
       "<div>\n",
       "<style scoped>\n",
       "    .dataframe tbody tr th:only-of-type {\n",
       "        vertical-align: middle;\n",
       "    }\n",
       "\n",
       "    .dataframe tbody tr th {\n",
       "        vertical-align: top;\n",
       "    }\n",
       "\n",
       "    .dataframe thead th {\n",
       "        text-align: right;\n",
       "    }\n",
       "</style>\n",
       "<table border=\"1\" class=\"dataframe\">\n",
       "  <thead>\n",
       "    <tr style=\"text-align: right;\">\n",
       "      <th></th>\n",
       "      <th>col_name</th>\n",
       "      <th>missing_count</th>\n",
       "      <th>missing_percentage</th>\n",
       "    </tr>\n",
       "  </thead>\n",
       "  <tbody>\n",
       "    <tr>\n",
       "      <th>5</th>\n",
       "      <td>Resource_Allocation</td>\n",
       "      <td>401</td>\n",
       "      <td>6.194007</td>\n",
       "    </tr>\n",
       "    <tr>\n",
       "      <th>6</th>\n",
       "      <td>Mental_Fatigue_Score</td>\n",
       "      <td>558</td>\n",
       "      <td>8.619092</td>\n",
       "    </tr>\n",
       "  </tbody>\n",
       "</table>\n",
       "</div>"
      ],
      "text/plain": [
       "               col_name  missing_count  missing_percentage\n",
       "5   Resource_Allocation            401            6.194007\n",
       "6  Mental_Fatigue_Score            558            8.619092"
      ]
     },
     "execution_count": 46,
     "metadata": {},
     "output_type": "execute_result"
    }
   ],
   "source": [
    "# Missing Value check\n",
    "# X_test Set\n",
    "detect_missval(X_test)"
   ]
  },
  {
   "cell_type": "markdown",
   "metadata": {},
   "source": [
    "From results above, We can see that there are missing values in both of `Train and Test Set` and is below 10%. Let's take a closer look into it."
   ]
  },
  {
   "cell_type": "code",
   "execution_count": 47,
   "metadata": {},
   "outputs": [
    {
     "data": {
      "text/html": [
       "<div>\n",
       "<style scoped>\n",
       "    .dataframe tbody tr th:only-of-type {\n",
       "        vertical-align: middle;\n",
       "    }\n",
       "\n",
       "    .dataframe tbody tr th {\n",
       "        vertical-align: top;\n",
       "    }\n",
       "\n",
       "    .dataframe thead th {\n",
       "        text-align: right;\n",
       "    }\n",
       "</style>\n",
       "<table border=\"1\" class=\"dataframe\">\n",
       "  <thead>\n",
       "    <tr style=\"text-align: right;\">\n",
       "      <th></th>\n",
       "      <th>Date_of_Joining</th>\n",
       "      <th>Gender</th>\n",
       "      <th>Company_Type</th>\n",
       "      <th>WFH_Setup_Available</th>\n",
       "      <th>Designation</th>\n",
       "      <th>Resource_Allocation</th>\n",
       "      <th>Mental_Fatigue_Score</th>\n",
       "    </tr>\n",
       "  </thead>\n",
       "  <tbody>\n",
       "    <tr>\n",
       "      <th>15176</th>\n",
       "      <td>2008-07-02</td>\n",
       "      <td>Male</td>\n",
       "      <td>Service</td>\n",
       "      <td>No</td>\n",
       "      <td>2.0</td>\n",
       "      <td>NaN</td>\n",
       "      <td>8.1</td>\n",
       "    </tr>\n",
       "    <tr>\n",
       "      <th>9394</th>\n",
       "      <td>2008-04-20</td>\n",
       "      <td>Male</td>\n",
       "      <td>Product</td>\n",
       "      <td>Yes</td>\n",
       "      <td>3.0</td>\n",
       "      <td>NaN</td>\n",
       "      <td>7.3</td>\n",
       "    </tr>\n",
       "    <tr>\n",
       "      <th>1714</th>\n",
       "      <td>2008-05-09</td>\n",
       "      <td>Female</td>\n",
       "      <td>Service</td>\n",
       "      <td>Yes</td>\n",
       "      <td>0.0</td>\n",
       "      <td>NaN</td>\n",
       "      <td>1.8</td>\n",
       "    </tr>\n",
       "    <tr>\n",
       "      <th>22682</th>\n",
       "      <td>2008-07-11</td>\n",
       "      <td>Male</td>\n",
       "      <td>Service</td>\n",
       "      <td>No</td>\n",
       "      <td>4.0</td>\n",
       "      <td>NaN</td>\n",
       "      <td>8.0</td>\n",
       "    </tr>\n",
       "    <tr>\n",
       "      <th>9934</th>\n",
       "      <td>2008-02-18</td>\n",
       "      <td>Female</td>\n",
       "      <td>Service</td>\n",
       "      <td>No</td>\n",
       "      <td>0.0</td>\n",
       "      <td>NaN</td>\n",
       "      <td>2.6</td>\n",
       "    </tr>\n",
       "  </tbody>\n",
       "</table>\n",
       "</div>"
      ],
      "text/plain": [
       "      Date_of_Joining  Gender Company_Type WFH_Setup_Available  Designation  \\\n",
       "15176      2008-07-02    Male      Service                  No          2.0   \n",
       "9394       2008-04-20    Male      Product                 Yes          3.0   \n",
       "1714       2008-05-09  Female      Service                 Yes          0.0   \n",
       "22682      2008-07-11    Male      Service                  No          4.0   \n",
       "9934       2008-02-18  Female      Service                  No          0.0   \n",
       "\n",
       "       Resource_Allocation  Mental_Fatigue_Score  \n",
       "15176                  NaN                   8.1  \n",
       "9394                   NaN                   7.3  \n",
       "1714                   NaN                   1.8  \n",
       "22682                  NaN                   8.0  \n",
       "9934                   NaN                   2.6  "
      ]
     },
     "execution_count": 47,
     "metadata": {},
     "output_type": "execute_result"
    }
   ],
   "source": [
    "# Missing Value Check\n",
    "# X_train Set\n",
    "# Feature : Resource_Allocation\n",
    "\n",
    "X_train[X_train['Resource_Allocation'].isnull()].sample(5)"
   ]
  },
  {
   "cell_type": "code",
   "execution_count": 48,
   "metadata": {},
   "outputs": [
    {
     "data": {
      "text/html": [
       "<div>\n",
       "<style scoped>\n",
       "    .dataframe tbody tr th:only-of-type {\n",
       "        vertical-align: middle;\n",
       "    }\n",
       "\n",
       "    .dataframe tbody tr th {\n",
       "        vertical-align: top;\n",
       "    }\n",
       "\n",
       "    .dataframe thead th {\n",
       "        text-align: right;\n",
       "    }\n",
       "</style>\n",
       "<table border=\"1\" class=\"dataframe\">\n",
       "  <thead>\n",
       "    <tr style=\"text-align: right;\">\n",
       "      <th></th>\n",
       "      <th>Date_of_Joining</th>\n",
       "      <th>Gender</th>\n",
       "      <th>Company_Type</th>\n",
       "      <th>WFH_Setup_Available</th>\n",
       "      <th>Designation</th>\n",
       "      <th>Resource_Allocation</th>\n",
       "      <th>Mental_Fatigue_Score</th>\n",
       "    </tr>\n",
       "  </thead>\n",
       "  <tbody>\n",
       "    <tr>\n",
       "      <th>21486</th>\n",
       "      <td>2008-12-25</td>\n",
       "      <td>Female</td>\n",
       "      <td>Service</td>\n",
       "      <td>Yes</td>\n",
       "      <td>1.0</td>\n",
       "      <td>3.0</td>\n",
       "      <td>NaN</td>\n",
       "    </tr>\n",
       "    <tr>\n",
       "      <th>11426</th>\n",
       "      <td>2008-09-06</td>\n",
       "      <td>Male</td>\n",
       "      <td>Product</td>\n",
       "      <td>Yes</td>\n",
       "      <td>1.0</td>\n",
       "      <td>4.0</td>\n",
       "      <td>NaN</td>\n",
       "    </tr>\n",
       "    <tr>\n",
       "      <th>10314</th>\n",
       "      <td>2008-05-15</td>\n",
       "      <td>Female</td>\n",
       "      <td>Service</td>\n",
       "      <td>Yes</td>\n",
       "      <td>2.0</td>\n",
       "      <td>5.0</td>\n",
       "      <td>NaN</td>\n",
       "    </tr>\n",
       "    <tr>\n",
       "      <th>20002</th>\n",
       "      <td>2008-05-31</td>\n",
       "      <td>Male</td>\n",
       "      <td>Service</td>\n",
       "      <td>No</td>\n",
       "      <td>4.0</td>\n",
       "      <td>8.0</td>\n",
       "      <td>NaN</td>\n",
       "    </tr>\n",
       "    <tr>\n",
       "      <th>11587</th>\n",
       "      <td>2008-11-23</td>\n",
       "      <td>Female</td>\n",
       "      <td>Service</td>\n",
       "      <td>Yes</td>\n",
       "      <td>0.0</td>\n",
       "      <td>1.0</td>\n",
       "      <td>NaN</td>\n",
       "    </tr>\n",
       "  </tbody>\n",
       "</table>\n",
       "</div>"
      ],
      "text/plain": [
       "      Date_of_Joining  Gender Company_Type WFH_Setup_Available  Designation  \\\n",
       "21486      2008-12-25  Female      Service                 Yes          1.0   \n",
       "11426      2008-09-06    Male      Product                 Yes          1.0   \n",
       "10314      2008-05-15  Female      Service                 Yes          2.0   \n",
       "20002      2008-05-31    Male      Service                  No          4.0   \n",
       "11587      2008-11-23  Female      Service                 Yes          0.0   \n",
       "\n",
       "       Resource_Allocation  Mental_Fatigue_Score  \n",
       "21486                  3.0                   NaN  \n",
       "11426                  4.0                   NaN  \n",
       "10314                  5.0                   NaN  \n",
       "20002                  8.0                   NaN  \n",
       "11587                  1.0                   NaN  "
      ]
     },
     "execution_count": 48,
     "metadata": {},
     "output_type": "execute_result"
    }
   ],
   "source": [
    "# Missing Value Check\n",
    "# X_train Set\n",
    "# Feature : Mental_Fatigue_Score\n",
    "\n",
    "X_train[X_train['Mental_Fatigue_Score'].isnull()].sample(5)"
   ]
  },
  {
   "cell_type": "code",
   "execution_count": 49,
   "metadata": {},
   "outputs": [
    {
     "data": {
      "text/html": [
       "<div>\n",
       "<style scoped>\n",
       "    .dataframe tbody tr th:only-of-type {\n",
       "        vertical-align: middle;\n",
       "    }\n",
       "\n",
       "    .dataframe tbody tr th {\n",
       "        vertical-align: top;\n",
       "    }\n",
       "\n",
       "    .dataframe thead th {\n",
       "        text-align: right;\n",
       "    }\n",
       "</style>\n",
       "<table border=\"1\" class=\"dataframe\">\n",
       "  <thead>\n",
       "    <tr style=\"text-align: right;\">\n",
       "      <th></th>\n",
       "      <th>Date_of_Joining</th>\n",
       "      <th>Gender</th>\n",
       "      <th>Company_Type</th>\n",
       "      <th>WFH_Setup_Available</th>\n",
       "      <th>Designation</th>\n",
       "      <th>Resource_Allocation</th>\n",
       "      <th>Mental_Fatigue_Score</th>\n",
       "    </tr>\n",
       "  </thead>\n",
       "  <tbody>\n",
       "    <tr>\n",
       "      <th>14804</th>\n",
       "      <td>2008-11-21</td>\n",
       "      <td>Male</td>\n",
       "      <td>Service</td>\n",
       "      <td>No</td>\n",
       "      <td>3.0</td>\n",
       "      <td>NaN</td>\n",
       "      <td>NaN</td>\n",
       "    </tr>\n",
       "    <tr>\n",
       "      <th>2644</th>\n",
       "      <td>2008-08-27</td>\n",
       "      <td>Female</td>\n",
       "      <td>Service</td>\n",
       "      <td>Yes</td>\n",
       "      <td>2.0</td>\n",
       "      <td>NaN</td>\n",
       "      <td>4.9</td>\n",
       "    </tr>\n",
       "    <tr>\n",
       "      <th>20793</th>\n",
       "      <td>2008-03-06</td>\n",
       "      <td>Female</td>\n",
       "      <td>Service</td>\n",
       "      <td>Yes</td>\n",
       "      <td>2.0</td>\n",
       "      <td>NaN</td>\n",
       "      <td>2.2</td>\n",
       "    </tr>\n",
       "    <tr>\n",
       "      <th>21309</th>\n",
       "      <td>2008-05-18</td>\n",
       "      <td>Male</td>\n",
       "      <td>Service</td>\n",
       "      <td>No</td>\n",
       "      <td>2.0</td>\n",
       "      <td>NaN</td>\n",
       "      <td>NaN</td>\n",
       "    </tr>\n",
       "    <tr>\n",
       "      <th>12354</th>\n",
       "      <td>2008-04-12</td>\n",
       "      <td>Female</td>\n",
       "      <td>Service</td>\n",
       "      <td>Yes</td>\n",
       "      <td>1.0</td>\n",
       "      <td>NaN</td>\n",
       "      <td>4.7</td>\n",
       "    </tr>\n",
       "  </tbody>\n",
       "</table>\n",
       "</div>"
      ],
      "text/plain": [
       "      Date_of_Joining  Gender Company_Type WFH_Setup_Available  Designation  \\\n",
       "14804      2008-11-21    Male      Service                  No          3.0   \n",
       "2644       2008-08-27  Female      Service                 Yes          2.0   \n",
       "20793      2008-03-06  Female      Service                 Yes          2.0   \n",
       "21309      2008-05-18    Male      Service                  No          2.0   \n",
       "12354      2008-04-12  Female      Service                 Yes          1.0   \n",
       "\n",
       "       Resource_Allocation  Mental_Fatigue_Score  \n",
       "14804                  NaN                   NaN  \n",
       "2644                   NaN                   4.9  \n",
       "20793                  NaN                   2.2  \n",
       "21309                  NaN                   NaN  \n",
       "12354                  NaN                   4.7  "
      ]
     },
     "execution_count": 49,
     "metadata": {},
     "output_type": "execute_result"
    }
   ],
   "source": [
    "# Missing Value Check\n",
    "# X_test Set\n",
    "# Feature : Resource_Allocation\n",
    "\n",
    "X_test[X_test['Resource_Allocation'].isnull()].sample(5)"
   ]
  },
  {
   "cell_type": "code",
   "execution_count": 50,
   "metadata": {},
   "outputs": [
    {
     "data": {
      "text/html": [
       "<div>\n",
       "<style scoped>\n",
       "    .dataframe tbody tr th:only-of-type {\n",
       "        vertical-align: middle;\n",
       "    }\n",
       "\n",
       "    .dataframe tbody tr th {\n",
       "        vertical-align: top;\n",
       "    }\n",
       "\n",
       "    .dataframe thead th {\n",
       "        text-align: right;\n",
       "    }\n",
       "</style>\n",
       "<table border=\"1\" class=\"dataframe\">\n",
       "  <thead>\n",
       "    <tr style=\"text-align: right;\">\n",
       "      <th></th>\n",
       "      <th>Date_of_Joining</th>\n",
       "      <th>Gender</th>\n",
       "      <th>Company_Type</th>\n",
       "      <th>WFH_Setup_Available</th>\n",
       "      <th>Designation</th>\n",
       "      <th>Resource_Allocation</th>\n",
       "      <th>Mental_Fatigue_Score</th>\n",
       "    </tr>\n",
       "  </thead>\n",
       "  <tbody>\n",
       "    <tr>\n",
       "      <th>1202</th>\n",
       "      <td>2008-11-13</td>\n",
       "      <td>Male</td>\n",
       "      <td>Service</td>\n",
       "      <td>Yes</td>\n",
       "      <td>1.0</td>\n",
       "      <td>2.0</td>\n",
       "      <td>NaN</td>\n",
       "    </tr>\n",
       "    <tr>\n",
       "      <th>13506</th>\n",
       "      <td>2008-11-13</td>\n",
       "      <td>Male</td>\n",
       "      <td>Service</td>\n",
       "      <td>No</td>\n",
       "      <td>2.0</td>\n",
       "      <td>6.0</td>\n",
       "      <td>NaN</td>\n",
       "    </tr>\n",
       "    <tr>\n",
       "      <th>17944</th>\n",
       "      <td>2008-08-15</td>\n",
       "      <td>Male</td>\n",
       "      <td>Product</td>\n",
       "      <td>No</td>\n",
       "      <td>1.0</td>\n",
       "      <td>4.0</td>\n",
       "      <td>NaN</td>\n",
       "    </tr>\n",
       "    <tr>\n",
       "      <th>3488</th>\n",
       "      <td>2008-08-03</td>\n",
       "      <td>Female</td>\n",
       "      <td>Product</td>\n",
       "      <td>No</td>\n",
       "      <td>1.0</td>\n",
       "      <td>3.0</td>\n",
       "      <td>NaN</td>\n",
       "    </tr>\n",
       "    <tr>\n",
       "      <th>9593</th>\n",
       "      <td>2008-06-02</td>\n",
       "      <td>Female</td>\n",
       "      <td>Product</td>\n",
       "      <td>Yes</td>\n",
       "      <td>3.0</td>\n",
       "      <td>6.0</td>\n",
       "      <td>NaN</td>\n",
       "    </tr>\n",
       "  </tbody>\n",
       "</table>\n",
       "</div>"
      ],
      "text/plain": [
       "      Date_of_Joining  Gender Company_Type WFH_Setup_Available  Designation  \\\n",
       "1202       2008-11-13    Male      Service                 Yes          1.0   \n",
       "13506      2008-11-13    Male      Service                  No          2.0   \n",
       "17944      2008-08-15    Male      Product                  No          1.0   \n",
       "3488       2008-08-03  Female      Product                  No          1.0   \n",
       "9593       2008-06-02  Female      Product                 Yes          3.0   \n",
       "\n",
       "       Resource_Allocation  Mental_Fatigue_Score  \n",
       "1202                   2.0                   NaN  \n",
       "13506                  6.0                   NaN  \n",
       "17944                  4.0                   NaN  \n",
       "3488                   3.0                   NaN  \n",
       "9593                   6.0                   NaN  "
      ]
     },
     "execution_count": 50,
     "metadata": {},
     "output_type": "execute_result"
    }
   ],
   "source": [
    "# Missing Value Check\n",
    "# X_test Set\n",
    "# Feature : Mental_Fatigue_Score\n",
    "\n",
    "X_test[X_test['Mental_Fatigue_Score'].isnull()].sample(5)"
   ]
  },
  {
   "cell_type": "markdown",
   "metadata": {},
   "source": [
    "Based on above results, I don't see any apparent pattern from inside the dataset that causing the missing values to be exist. I'll consider this as a `Missing Completly at Random` case.\\\n",
    "Based from `Outliers Detection` process, We know that the `Resource_Allocation and Mental_Fatigue_Score` is normally distributed. So, I'll impute those missing value with `mean value` of the variable.\\\n",
    "The `mean value` will be taken from the `Train Set` only to avoid any `information leak` to be happening."
   ]
  },
  {
   "cell_type": "code",
   "execution_count": 51,
   "metadata": {},
   "outputs": [],
   "source": [
    "# Calculate the mean value\n",
    "mean_ra = X_train['Resource_Allocation'].mean()\n",
    "mean_mfs = X_train['Mental_Fatigue_Score'].mean()"
   ]
  },
  {
   "cell_type": "code",
   "execution_count": 52,
   "metadata": {},
   "outputs": [],
   "source": [
    "# Impute missing value with mean\n",
    "X_train['Resource_Allocation'].fillna(mean_ra, inplace=True)\n",
    "X_train['Mental_Fatigue_Score'].fillna(mean_mfs, inplace=True)\n",
    "\n",
    "X_test['Resource_Allocation'].fillna(mean_ra, inplace=True)\n",
    "X_test['Mental_Fatigue_Score'].fillna(mean_mfs, inplace=True)"
   ]
  },
  {
   "cell_type": "code",
   "execution_count": 53,
   "metadata": {},
   "outputs": [
    {
     "name": "stdout",
     "output_type": "stream",
     "text": [
      "Date_of_Joining         0\n",
      "Gender                  0\n",
      "Company_Type            0\n",
      "WFH_Setup_Available     0\n",
      "Designation             0\n",
      "Resource_Allocation     0\n",
      "Mental_Fatigue_Score    0\n",
      "dtype: int64\n",
      "\n",
      "Date_of_Joining         0\n",
      "Gender                  0\n",
      "Company_Type            0\n",
      "WFH_Setup_Available     0\n",
      "Designation             0\n",
      "Resource_Allocation     0\n",
      "Mental_Fatigue_Score    0\n",
      "dtype: int64\n"
     ]
    }
   ],
   "source": [
    "# Confirmation\n",
    "print(X_train.isna().sum())\n",
    "print()\n",
    "print(X_test.isna().sum())"
   ]
  },
  {
   "cell_type": "markdown",
   "metadata": {},
   "source": [
    "Now, I can confirm that the dataset is now free from any missing values."
   ]
  },
  {
   "cell_type": "markdown",
   "metadata": {},
   "source": [
    "### Feature Selection\n",
    "\n",
    "Let's see our dataset once again"
   ]
  },
  {
   "cell_type": "code",
   "execution_count": 54,
   "metadata": {},
   "outputs": [
    {
     "data": {
      "text/html": [
       "<div>\n",
       "<style scoped>\n",
       "    .dataframe tbody tr th:only-of-type {\n",
       "        vertical-align: middle;\n",
       "    }\n",
       "\n",
       "    .dataframe tbody tr th {\n",
       "        vertical-align: top;\n",
       "    }\n",
       "\n",
       "    .dataframe thead th {\n",
       "        text-align: right;\n",
       "    }\n",
       "</style>\n",
       "<table border=\"1\" class=\"dataframe\">\n",
       "  <thead>\n",
       "    <tr style=\"text-align: right;\">\n",
       "      <th></th>\n",
       "      <th>Date_of_Joining</th>\n",
       "      <th>Gender</th>\n",
       "      <th>Company_Type</th>\n",
       "      <th>WFH_Setup_Available</th>\n",
       "      <th>Designation</th>\n",
       "      <th>Resource_Allocation</th>\n",
       "      <th>Mental_Fatigue_Score</th>\n",
       "    </tr>\n",
       "  </thead>\n",
       "  <tbody>\n",
       "    <tr>\n",
       "      <th>6506</th>\n",
       "      <td>2008-01-24</td>\n",
       "      <td>Male</td>\n",
       "      <td>Service</td>\n",
       "      <td>No</td>\n",
       "      <td>2.0</td>\n",
       "      <td>4.0</td>\n",
       "      <td>5.4</td>\n",
       "    </tr>\n",
       "    <tr>\n",
       "      <th>12239</th>\n",
       "      <td>2008-06-30</td>\n",
       "      <td>Female</td>\n",
       "      <td>Service</td>\n",
       "      <td>Yes</td>\n",
       "      <td>3.0</td>\n",
       "      <td>4.0</td>\n",
       "      <td>6.3</td>\n",
       "    </tr>\n",
       "    <tr>\n",
       "      <th>12441</th>\n",
       "      <td>2008-04-30</td>\n",
       "      <td>Male</td>\n",
       "      <td>Service</td>\n",
       "      <td>Yes</td>\n",
       "      <td>2.0</td>\n",
       "      <td>4.0</td>\n",
       "      <td>6.1</td>\n",
       "    </tr>\n",
       "    <tr>\n",
       "      <th>8366</th>\n",
       "      <td>2008-08-29</td>\n",
       "      <td>Male</td>\n",
       "      <td>Service</td>\n",
       "      <td>No</td>\n",
       "      <td>2.0</td>\n",
       "      <td>5.0</td>\n",
       "      <td>7.6</td>\n",
       "    </tr>\n",
       "    <tr>\n",
       "      <th>16802</th>\n",
       "      <td>2008-03-01</td>\n",
       "      <td>Male</td>\n",
       "      <td>Service</td>\n",
       "      <td>No</td>\n",
       "      <td>3.0</td>\n",
       "      <td>7.0</td>\n",
       "      <td>8.8</td>\n",
       "    </tr>\n",
       "  </tbody>\n",
       "</table>\n",
       "</div>"
      ],
      "text/plain": [
       "      Date_of_Joining  Gender Company_Type WFH_Setup_Available  Designation  \\\n",
       "6506       2008-01-24    Male      Service                  No          2.0   \n",
       "12239      2008-06-30  Female      Service                 Yes          3.0   \n",
       "12441      2008-04-30    Male      Service                 Yes          2.0   \n",
       "8366       2008-08-29    Male      Service                  No          2.0   \n",
       "16802      2008-03-01    Male      Service                  No          3.0   \n",
       "\n",
       "       Resource_Allocation  Mental_Fatigue_Score  \n",
       "6506                   4.0                   5.4  \n",
       "12239                  4.0                   6.3  \n",
       "12441                  4.0                   6.1  \n",
       "8366                   5.0                   7.6  \n",
       "16802                  7.0                   8.8  "
      ]
     },
     "execution_count": 54,
     "metadata": {},
     "output_type": "execute_result"
    }
   ],
   "source": [
    "# Dataset Check\n",
    "X_train.head()"
   ]
  },
  {
   "cell_type": "markdown",
   "metadata": {},
   "source": [
    "And once again let's see the correlation matrix between each parameter"
   ]
  },
  {
   "cell_type": "code",
   "execution_count": 55,
   "metadata": {},
   "outputs": [
    {
     "data": {
      "image/png": "[encoded data removed]",
      "text/plain": [
       "<Figure size 1440x720 with 1 Axes>"
      ]
     },
     "metadata": {},
     "output_type": "display_data"
    }
   ],
   "source": [
    "# Checking correlation between target variable and input variables\n",
    "\n",
    "X_train.corrwith(y_train).sort_values().plot.bar(figsize=(20,10), title='Correlation with `Burn_Rate`', fontsize=12, rot=45, grid=True)\n",
    "plt.show()"
   ]
  },
  {
   "cell_type": "markdown",
   "metadata": {},
   "source": [
    "I decide that I will use these features for my model:\n",
    "\n",
    "- Target Feature : `Burn_Rate`\n",
    "- Input Feature : [`'Gender', 'Company_Type', 'WFH_Setup_Available', 'Designation', 'Resource_Allocation', 'Mental_Fatigue_Score'`]"
   ]
  },
  {
   "cell_type": "markdown",
   "metadata": {},
   "source": [
    "### Feature Engineering (Scaling/Encoding)\n",
    "\n",
    "In this part of sub-process, I will make the pipeline for data preparation process.\\\n",
    "This process consist of `Scaling and Encoding` input features so that it can be processed by the model.\n",
    "\n",
    "Before start the process, I'll categorize each input variable into two different type:\n",
    "\n",
    "Cat_nominal = [`'Gender', 'Company_Type', 'WFH_Setup_Available'`]\\\n",
    "Num_normal = [`'Designation', 'Resource_Allocation', 'Mental_Fatigue_Score'`]\n",
    "\n",
    "And then, I'll do:\n",
    "- `One Hot Encoding` for `Cat_nominal`\n",
    "- `Standard Scaling` for `Num_normal`"
   ]
  },
  {
   "cell_type": "code",
   "execution_count": 56,
   "metadata": {},
   "outputs": [],
   "source": [
    "# Column Categorization\n",
    "Cat_nominal = ['Gender', 'Company_Type', 'WFH_Setup_Available']\n",
    "Num_normal = ['Designation', 'Resource_Allocation', 'Mental_Fatigue_Score']\n",
    "\n",
    "# Combines two categoy into one\n",
    "final_features = Cat_nominal + Num_normal"
   ]
  },
  {
   "cell_type": "code",
   "execution_count": 57,
   "metadata": {},
   "outputs": [],
   "source": [
    "# Use selected variables\n",
    "X_train = X_train[final_features]\n",
    "X_test = X_test[final_features]"
   ]
  },
  {
   "cell_type": "code",
   "execution_count": 58,
   "metadata": {},
   "outputs": [],
   "source": [
    "# Make the Feature Engineering Pipeline\n",
    "pipe_FE = ColumnTransformer([\n",
    "    ('OHE', OneHotEncoder(handle_unknown='ignore'), Cat_nominal),\n",
    "    ('StdScaler', StandardScaler(), Num_normal)\n",
    "])  "
   ]
  },
  {
   "cell_type": "markdown",
   "metadata": {},
   "source": [
    "## VI. Model Definition"
   ]
  },
  {
   "cell_type": "markdown",
   "metadata": {},
   "source": [
    "### Model\n",
    "Here is my initial `Burn_Rate` regression model:\n",
    "\n",
    "- Target Feature : `Burn_Rate`\n",
    "- Input Feature : [`'Gender', 'Company_Type', 'WFH_Setup_Available', 'Designation', 'Resource_Allocation', 'Mental_Fatigue_Score'`]\n",
    "\n",
    "This is only initial model, it may change in the future depends on my model evaluation result."
   ]
  },
  {
   "cell_type": "markdown",
   "metadata": {},
   "source": [
    "### Algortihm\n",
    "In this project I will use these algorithms :\n",
    "- Linear Regression\n",
    "- Elastic Net\n",
    "- Support Vector Machine - Regression\n",
    "- Decision Tree\n",
    "- Random Forest\n",
    "\n",
    "I will compare above models and choose the best one.\n"
   ]
  },
  {
   "cell_type": "markdown",
   "metadata": {},
   "source": [
    "### Linear Regression"
   ]
  },
  {
   "cell_type": "code",
   "execution_count": 59,
   "metadata": {},
   "outputs": [],
   "source": [
    "# Initial Model\n",
    "lr = LinearRegression(n_jobs=-1)\n",
    "\n",
    "# Model Pipeline\n",
    "pipe_lr = Pipeline([\n",
    "    ('preprocessing', pipe_FE),\n",
    "    ('lr', lr)\n",
    "])\n",
    "\n",
    "# Hyper parameter\n",
    "params_lr = {\n",
    "    'lr__fit_intercept': [True, False],\n",
    "}"
   ]
  },
  {
   "cell_type": "markdown",
   "metadata": {},
   "source": [
    "### Elastic Net"
   ]
  },
  {
   "cell_type": "code",
   "execution_count": 60,
   "metadata": {},
   "outputs": [],
   "source": [
    "# Initial Model\n",
    "en = ElasticNet(random_state=random_state)\n",
    "\n",
    "# Model Pipeline\n",
    "pipe_en = Pipeline([\n",
    "    ('preprocessing', pipe_FE),\n",
    "    ('en', en)\n",
    "])\n",
    "\n",
    "# Hyper parameter\n",
    "params_en = {\n",
    "    'en__alpha': [1, 1.5, 2],\n",
    "    'en__l1_ration': [0, 0.25, 0.5 ,0.75, 1],\n",
    "    'en__fit_intercept': [True, False],\n",
    "    'en__warm_start': [True, False]\n",
    "}"
   ]
  },
  {
   "cell_type": "markdown",
   "metadata": {},
   "source": [
    "### Support Vector Machine - Regression"
   ]
  },
  {
   "cell_type": "code",
   "execution_count": 61,
   "metadata": {},
   "outputs": [],
   "source": [
    "# Initial Model\n",
    "svr = SVR(cache_size=2000)\n",
    "\n",
    "# Model Pipeline\n",
    "pipe_svr = Pipeline([\n",
    "    ('preprocessing', pipe_FE),\n",
    "    ('svr', svr)\n",
    "])\n",
    "\n",
    "# Hyper parameter\n",
    "params_svr = {\n",
    "    'svr__kernel': ['linear', 'poly', 'rbf', 'sigmoid'],\n",
    "    'svr__degree': [2, 3, 4],\n",
    "    'svr__C': [0.1, 1, 10]\n",
    "}"
   ]
  },
  {
   "cell_type": "markdown",
   "metadata": {},
   "source": [
    "### Decision Tree Regressor"
   ]
  },
  {
   "cell_type": "code",
   "execution_count": 62,
   "metadata": {},
   "outputs": [],
   "source": [
    "# Initial Model\n",
    "dtr = DecisionTreeRegressor(random_state=random_state)\n",
    "\n",
    "# Model Pipeline\n",
    "pipe_dtr = Pipeline([\n",
    "    ('preprocessing', pipe_FE),\n",
    "    ('dtr', dtr)\n",
    "])\n",
    "\n",
    "# Hyper parameter\n",
    "params_dtr = {\n",
    "    'dtr__criterion': ['squared_error', 'friedman_mse', 'absolute_error', 'poisson'],\n",
    "    'dtr__spliter': ['best', 'random'],\n",
    "    'dtr__max_features': ['auto', 'sqrt', 'log2']\n",
    "}"
   ]
  },
  {
   "cell_type": "markdown",
   "metadata": {},
   "source": [
    "### Random Forest Regressor"
   ]
  },
  {
   "cell_type": "code",
   "execution_count": 63,
   "metadata": {},
   "outputs": [],
   "source": [
    "# Initial Model\n",
    "rfr = RandomForestRegressor(random_state=random_state, n_jobs=-1)\n",
    "\n",
    "# Model Pipeline\n",
    "pipe_rfr = Pipeline([\n",
    "    ('preprocessing', pipe_FE),\n",
    "    ('rfr', rfr)\n",
    "])\n",
    "\n",
    "# Hyper parameter\n",
    "params_rfr = {\n",
    "    'rfr__criterion': ['squared_error', 'absolute_error', 'poisson'],\n",
    "    'rfr__max_features': ['auto', 'sqrt', 'log2'],\n",
    "    'rfr__warm_start': [True, False]\n",
    "}"
   ]
  },
  {
   "cell_type": "markdown",
   "metadata": {},
   "source": [
    "### Model Evaluation (Metrics)\n",
    "\n",
    "Since the target of this project is `Regression`, I will use these error metrics for evaluating my model:\n",
    "- MAE: Mean Absolute Error\n",
    "- r2 Score: r-squared score"
   ]
  },
  {
   "cell_type": "markdown",
   "metadata": {},
   "source": [
    "## VII. Model Training"
   ]
  },
  {
   "cell_type": "markdown",
   "metadata": {},
   "source": [
    "### Cross-Validation Process\n",
    "\n",
    "In this part of sub-process, I will use `Cross-Validation` to evaluate my base model and find which one is the best. I will use `r2` for scoring method."
   ]
  },
  {
   "cell_type": "code",
   "execution_count": 64,
   "metadata": {},
   "outputs": [],
   "source": [
    "# Cross-validate base model\n",
    "\n",
    "# prepare models and put it into list\n",
    "models = []\n",
    "models.append(('lr', pipe_lr))\n",
    "models.append(('en', pipe_en))\n",
    "models.append(('svr', pipe_svr))\n",
    "models.append(('dtr', pipe_dtr))\n",
    "models.append(('rfr', pipe_rfr))\n",
    "\n",
    "# Create empty list to stores result\n",
    "names = []\n",
    "results = []\n",
    "mean_score = []\n",
    "stdev_score = []\n",
    "\n",
    "# Cross-validate each model\n",
    "for name, model in models:\n",
    "    model.fit(X_train,y_train)\n",
    "    scores = cross_val_score(model, X_train, y_train, scoring='r2', cv=5, n_jobs=-1)\n",
    "\n",
    "    names.append(name)\n",
    "    results.append(scores)\n",
    "    mean_score.append(round(np.mean(scores),4))\n",
    "    stdev_score.append(round(np.std(scores),4))\n",
    "\n",
    "cv_result = pd.DataFrame({'models':names, 'mean_score':mean_score, 'stdev_score':stdev_score})"
   ]
  },
  {
   "cell_type": "markdown",
   "metadata": {},
   "source": [
    "## VIII. Model Evaluation\n",
    "\n",
    "In this part of process, I will try to evaluate the trained model and make conclusion out of it."
   ]
  },
  {
   "cell_type": "code",
   "execution_count": 65,
   "metadata": {},
   "outputs": [
    {
     "data": {
      "text/html": [
       "<div>\n",
       "<style scoped>\n",
       "    .dataframe tbody tr th:only-of-type {\n",
       "        vertical-align: middle;\n",
       "    }\n",
       "\n",
       "    .dataframe tbody tr th {\n",
       "        vertical-align: top;\n",
       "    }\n",
       "\n",
       "    .dataframe thead th {\n",
       "        text-align: right;\n",
       "    }\n",
       "</style>\n",
       "<table border=\"1\" class=\"dataframe\">\n",
       "  <thead>\n",
       "    <tr style=\"text-align: right;\">\n",
       "      <th></th>\n",
       "      <th>models</th>\n",
       "      <th>mean_score</th>\n",
       "      <th>stdev_score</th>\n",
       "    </tr>\n",
       "  </thead>\n",
       "  <tbody>\n",
       "    <tr>\n",
       "      <th>4</th>\n",
       "      <td>rfr</td>\n",
       "      <td>0.8931</td>\n",
       "      <td>0.0022</td>\n",
       "    </tr>\n",
       "    <tr>\n",
       "      <th>2</th>\n",
       "      <td>svr</td>\n",
       "      <td>0.8893</td>\n",
       "      <td>0.0046</td>\n",
       "    </tr>\n",
       "    <tr>\n",
       "      <th>3</th>\n",
       "      <td>dtr</td>\n",
       "      <td>0.8763</td>\n",
       "      <td>0.0036</td>\n",
       "    </tr>\n",
       "    <tr>\n",
       "      <th>0</th>\n",
       "      <td>lr</td>\n",
       "      <td>0.8701</td>\n",
       "      <td>0.0038</td>\n",
       "    </tr>\n",
       "    <tr>\n",
       "      <th>1</th>\n",
       "      <td>en</td>\n",
       "      <td>-0.0005</td>\n",
       "      <td>0.0003</td>\n",
       "    </tr>\n",
       "  </tbody>\n",
       "</table>\n",
       "</div>"
      ],
      "text/plain": [
       "  models  mean_score  stdev_score\n",
       "4    rfr      0.8931       0.0022\n",
       "2    svr      0.8893       0.0046\n",
       "3    dtr      0.8763       0.0036\n",
       "0     lr      0.8701       0.0038\n",
       "1     en     -0.0005       0.0003"
      ]
     },
     "execution_count": 65,
     "metadata": {},
     "output_type": "execute_result"
    }
   ],
   "source": [
    "# Showing the result\n",
    "cv_result.sort_values(by='mean_score', ascending=False)"
   ]
  },
  {
   "cell_type": "markdown",
   "metadata": {},
   "source": [
    "Based on result above, we can see the top model is `Random Forest Regressor`, it has the best `mean_score` and lowest `stdev_score`.\n",
    "\n",
    "Despite the ranking above, In my opinion all of those models are perform similarly well (except `Elastic Net`). I decided to chose top two algorithm and tune it then compare it again."
   ]
  },
  {
   "cell_type": "markdown",
   "metadata": {},
   "source": [
    "### Hyper Parameter Tuning for the Best Model - Random Forest Regressor"
   ]
  },
  {
   "cell_type": "code",
   "execution_count": 66,
   "metadata": {},
   "outputs": [
    {
     "name": "stdout",
     "output_type": "stream",
     "text": [
      "Fitting 5 folds for each of 18 candidates, totalling 90 fits\n"
     ]
    }
   ],
   "source": [
    "# Hyperparameter tuning\n",
    "grid_rfr = GridSearchCV(\n",
    "    pipe_rfr, params_rfr, cv=5, scoring='r2', n_jobs=-1, verbose=1\n",
    ").fit(X_train, y_train)\n",
    "\n",
    "best_params_rfr = grid_rfr.best_params_\n",
    "best_pipe_rfr = grid_rfr.best_estimator_\n",
    "df_result_rfr = pd.DataFrame.from_dict(grid_rfr.cv_results_, orient='columns')"
   ]
  },
  {
   "cell_type": "code",
   "execution_count": 67,
   "metadata": {},
   "outputs": [
    {
     "data": {
      "text/plain": [
       "{'rfr__criterion': 'absolute_error',\n",
       " 'rfr__max_features': 'sqrt',\n",
       " 'rfr__warm_start': True}"
      ]
     },
     "execution_count": 67,
     "metadata": {},
     "output_type": "execute_result"
    }
   ],
   "source": [
    "# Show best parameter for Model\n",
    "best_params_rfr"
   ]
  },
  {
   "cell_type": "markdown",
   "metadata": {},
   "source": [
    "Based on result above, the best hyper parameter settings for `Random Forest Regressor` are:\n",
    "- criterion: `absolute_error`\n",
    "- max_features: `sqrt`\n",
    "- warm_start: `True`"
   ]
  },
  {
   "cell_type": "markdown",
   "metadata": {},
   "source": [
    "### Hyper Parameter Tuning for the Best Model - Support Vector Machine - Regression"
   ]
  },
  {
   "cell_type": "code",
   "execution_count": 68,
   "metadata": {},
   "outputs": [
    {
     "name": "stdout",
     "output_type": "stream",
     "text": [
      "Fitting 5 folds for each of 36 candidates, totalling 180 fits\n"
     ]
    }
   ],
   "source": [
    "# Hyperparameter tuning\n",
    "grid_svr = GridSearchCV(\n",
    "    pipe_svr, params_svr, cv=5, scoring='r2', n_jobs=-1, verbose=1\n",
    ").fit(X_train, y_train)\n",
    "\n",
    "best_params_svr = grid_svr.best_params_\n",
    "best_pipe_svr = grid_svr.best_estimator_\n",
    "df_result_svr = pd.DataFrame.from_dict(grid_svr.cv_results_, orient='columns')"
   ]
  },
  {
   "cell_type": "code",
   "execution_count": 69,
   "metadata": {},
   "outputs": [
    {
     "data": {
      "text/plain": [
       "{'svr__C': 1, 'svr__degree': 2, 'svr__kernel': 'rbf'}"
      ]
     },
     "execution_count": 69,
     "metadata": {},
     "output_type": "execute_result"
    }
   ],
   "source": [
    "# Show best parameter for Model\n",
    "best_params_svr"
   ]
  },
  {
   "cell_type": "markdown",
   "metadata": {},
   "source": [
    "Based on result above, the best hyper parameter settings for `Support Vector Machine - Regressor` are:\n",
    "- C: `1`\n",
    "- degree: `2`\n",
    "- kernel: `rbf`"
   ]
  },
  {
   "cell_type": "markdown",
   "metadata": {},
   "source": [
    "### Prediction Using Best Model"
   ]
  },
  {
   "cell_type": "code",
   "execution_count": 70,
   "metadata": {},
   "outputs": [],
   "source": [
    "# Prediction on `Train_Set`\n",
    "y_train_pred_1 = best_pipe_rfr.predict(X_train).round(2)\n",
    "y_train_pred_2 = best_pipe_svr.predict(X_train).round(2)\n",
    "\n",
    "# Prediction on `Test_Set`\n",
    "y_test_pred_1 = best_pipe_rfr.predict(X_test).round(2)\n",
    "y_test_pred_2 = best_pipe_svr.predict(X_test).round(2)"
   ]
  },
  {
   "cell_type": "markdown",
   "metadata": {},
   "source": [
    "### Model Evaluation - Random Forest Regressor"
   ]
  },
  {
   "cell_type": "code",
   "execution_count": 71,
   "metadata": {},
   "outputs": [
    {
     "name": "stdout",
     "output_type": "stream",
     "text": [
      "___________________ Train Results (Random Forest Regressor) ____________________\n",
      "MAE: 0.04\n",
      "R-squared Score: 0.93\n",
      "___________________ Test Results (Random Forest Regressor) _____________________\n",
      "MAE: 0.05\n",
      "R-squared Score: 0.9\n",
      "___________________ Differences _________________________________________________\n",
      "MAE: 0.01\n",
      "R-squared Score: -0.03\n"
     ]
    }
   ],
   "source": [
    "# Evaluation for training phase\n",
    "print('___________________ Train Results (Random Forest Regressor) ____________________')\n",
    "print('MAE:',round(mean_absolute_error(y_train,y_train_pred_1),2))\n",
    "print('R-squared Score:',round(r2_score(y_train,y_train_pred_1),2))\n",
    "\n",
    "# Evaluation for testing phase\n",
    "print('___________________ Test Results (Random Forest Regressor) _____________________')\n",
    "print('MAE:',round(mean_absolute_error(y_test,y_test_pred_1),2))\n",
    "print('R-squared Score:',round(r2_score(y_test,y_test_pred_1),2))\n",
    "\n",
    "# Differences\n",
    "print('___________________ Differences _________________________________________________')\n",
    "print('MAE:',(round(mean_absolute_error(y_test,y_test_pred_1),2) - round(mean_absolute_error(y_train,y_train_pred_1),2)).round(2))\n",
    "print('R-squared Score:',(round(r2_score(y_test,y_test_pred_1),2) - round(r2_score(y_train,y_train_pred_1),2)).round(2))"
   ]
  },
  {
   "cell_type": "markdown",
   "metadata": {},
   "source": [
    "### Model Evaluation - Support Vector Machine - Regression"
   ]
  },
  {
   "cell_type": "code",
   "execution_count": 72,
   "metadata": {},
   "outputs": [
    {
     "name": "stdout",
     "output_type": "stream",
     "text": [
      "___________________ Test Results (Support Vector Regression) _____________________\n",
      "MAE: 0.05\n",
      "R-squared Score: 0.89\n",
      "___________________ Test Results (Support Vector Regression) _____________________\n",
      "MAE: 0.05\n",
      "R-squared Score: 0.89\n",
      "___________________ Differences _________________________________________________\n",
      "MAE: 0.0\n",
      "R-squared Score: 0.0\n"
     ]
    }
   ],
   "source": [
    "# Evaluation for training phase\n",
    "print('___________________ Test Results (Support Vector Regression) _____________________')\n",
    "print('MAE:',round(mean_absolute_error(y_train,y_train_pred_2),2))\n",
    "print('R-squared Score:',round(r2_score(y_train,y_train_pred_2),2))\n",
    "\n",
    "# Evaluation for testing phase\n",
    "print('___________________ Test Results (Support Vector Regression) _____________________')\n",
    "print('MAE:',round(mean_absolute_error(y_test,y_test_pred_2),2))\n",
    "print('R-squared Score:',round(r2_score(y_test,y_test_pred_2),2))\n",
    "\n",
    "# Differences\n",
    "print('___________________ Differences _________________________________________________')\n",
    "print('MAE:',(round(mean_absolute_error(y_test,y_test_pred_2),2) - round(mean_absolute_error(y_train,y_train_pred_2),2)).round(2))\n",
    "print('R-squared Score:',(round(r2_score(y_test,y_test_pred_2),2) - round(r2_score(y_train,y_train_pred_2),2)).round(2))"
   ]
  },
  {
   "cell_type": "markdown",
   "metadata": {},
   "source": [
    "### Model Evaluation Final Conclusion\n",
    "\n",
    "Here are my conclusion for model evaluation process:\n",
    "\n",
    "- Both model shows pretty good performance.\n",
    "- `Random Forest Regressor` shows lower `MAE Score` and higher `r squared score`, but has 3% differences between `training and testing phase`. This mean `Random Forest Regressor` show slight `overfit` nature.\n",
    "- `Support Vector Machine - Regression` shows similar `MAE Score` and lower `r squared score`, but has 0% differences between `training and testing phase`. This mean `Support Vector Machine - Regression` show `goodfit` nature.\n",
    "- Regardless of the model's fit nature, both model has high `r squared score`. This mean the dataset fits pretty well with the model.\n",
    "\n",
    "Since `Support Vector Machine - Regression` show `goodfit` nature, I decided to use it as my final model."
   ]
  },
  {
   "cell_type": "markdown",
   "metadata": {},
   "source": [
    "### Save the Chosen Model\n",
    "\n",
    "In this part of sub-process, I will save the chosen model so that it can be deployed to the production environment."
   ]
  },
  {
   "cell_type": "code",
   "execution_count": 73,
   "metadata": {},
   "outputs": [],
   "source": [
    "# Save the best model\n",
    "with open('model.pkl', 'wb') as f:\n",
    "    pickle.dump(best_pipe_svr, f)"
   ]
  },
  {
   "cell_type": "markdown",
   "metadata": {},
   "source": [
    "## IX. Model Inference\n",
    "In this part of process, I will try to feed the machine learning model using the `Inference Set` and see how it perform.\n",
    "\n",
    "Before feeding the set into the model, We need to do exact same process of `Missing value handling, Feature selection and engineering` process to the `Inference Set`"
   ]
  },
  {
   "cell_type": "code",
   "execution_count": 74,
   "metadata": {},
   "outputs": [
    {
     "data": {
      "text/plain": [
       "Employee ID             0\n",
       "Date of Joining         0\n",
       "Gender                  0\n",
       "Company Type            0\n",
       "WFH Setup Available     0\n",
       "Designation             0\n",
       "Resource Allocation     0\n",
       "Mental Fatigue Score    0\n",
       "dtype: int64"
      ]
     },
     "execution_count": 74,
     "metadata": {},
     "output_type": "execute_result"
    }
   ],
   "source": [
    "# Missing Value Check\n",
    "inf_set.isna().sum()"
   ]
  },
  {
   "cell_type": "markdown",
   "metadata": {},
   "source": [
    "Looks like there is no missing value here, let's continue the process."
   ]
  },
  {
   "cell_type": "code",
   "execution_count": 75,
   "metadata": {},
   "outputs": [],
   "source": [
    "# Renaming Columns\n",
    "for i in inf_set.columns:\n",
    "    inf_set.rename(columns={i:i.replace(' ','_')}, inplace=True)"
   ]
  },
  {
   "cell_type": "markdown",
   "metadata": {},
   "source": [
    "### Prediction"
   ]
  },
  {
   "cell_type": "code",
   "execution_count": 80,
   "metadata": {},
   "outputs": [],
   "source": [
    "# Determines prediction result\n",
    "y_inf_pred = best_pipe_svr.predict(inf_set).round(2)"
   ]
  },
  {
   "cell_type": "code",
   "execution_count": 81,
   "metadata": {},
   "outputs": [
    {
     "data": {
      "text/plain": [
       "array([0.64, 0.32, 0.43, ..., 0.9 , 0.57, 0.15])"
      ]
     },
     "execution_count": 81,
     "metadata": {},
     "output_type": "execute_result"
    }
   ],
   "source": [
    "# Show Result\n",
    "y_inf_pred"
   ]
  },
  {
   "cell_type": "markdown",
   "metadata": {},
   "source": [
    "## X. Conclusion\n",
    "\n",
    "Here all the conclusion that I get from this project"
   ]
  },
  {
   "cell_type": "markdown",
   "metadata": {},
   "source": [
    "## EDA Analysis"
   ]
  },
  {
   "cell_type": "markdown",
   "metadata": {},
   "source": [
    "**Univariate Analysis**"
   ]
  },
  {
   "cell_type": "code",
   "execution_count": 82,
   "metadata": {},
   "outputs": [
    {
     "data": {
      "image/png": "[encoded data removed]",
      "text/plain": [
       "<Figure size 1080x1080 with 6 Axes>"
      ]
     },
     "metadata": {},
     "output_type": "display_data"
    }
   ],
   "source": [
    "# Histogram Plot\n",
    "df.hist()\n",
    "plt.gcf().set_size_inches(15, 15)\n",
    "plt.show()"
   ]
  },
  {
   "cell_type": "markdown",
   "metadata": {},
   "source": [
    "From the graph above, We can see that:\n",
    "- `Designation and Burn Rate` follow `normal distribution.`\n",
    "- `Resource Allocation and Mental Fatigue Score` follow slight `skew distribution.`"
   ]
  },
  {
   "cell_type": "markdown",
   "metadata": {},
   "source": [
    "**Bivariate Analysis**"
   ]
  },
  {
   "cell_type": "code",
   "execution_count": 83,
   "metadata": {},
   "outputs": [
    {
     "data": {
      "image/png": "[encoded data removed]",
      "text/plain": [
       "<Figure size 3456x576 with 3 Axes>"
      ]
     },
     "metadata": {},
     "output_type": "display_data"
    }
   ],
   "source": [
    "# Categorical Bivariate Analysis\n",
    "fig, ax = plt.subplots(1,3, figsize=(24 * 2, 8))\n",
    "fig.suptitle('Burn Rate', fontsize=25, weight='bold')\n",
    "\n",
    "graph1 = pd.DataFrame(df.groupby('Gender')['Burn_Rate'].mean()).reset_index()\n",
    "sns.barplot(data=graph1, x='Gender', y='Burn_Rate', ax=ax[0])\n",
    "ax[0].set_title('by Gender', weight='bold', fontsize=20)\n",
    "\n",
    "graph2 = pd.DataFrame(df.groupby('Company_Type')['Burn_Rate'].mean()).reset_index()\n",
    "sns.barplot(data=graph2, x='Company_Type', y='Burn_Rate', ax=ax[1])\n",
    "ax[1].set_title('by Company Type', weight='bold', fontsize=20)\n",
    "\n",
    "graph3 = pd.DataFrame(df.groupby('WFH_Setup_Available')['Burn_Rate'].mean()).reset_index()\n",
    "sns.barplot(data=graph3, x='WFH_Setup_Available', y='Burn_Rate', ax=ax[2])\n",
    "ax[2].set_title('by WFH Setup Available', weight='bold', fontsize=20)\n",
    "\n",
    "plt.show()"
   ]
  },
  {
   "cell_type": "markdown",
   "metadata": {},
   "source": [
    "Based from graph above, We can see that:\n",
    "- `By Gender` : Male tends to has higher `Burn Rate` compared to Female\n",
    "- `By Company Type` : Both `Product and Service` industry has equal `Burn Rate`\n",
    "- `By WFH Setup Available` : People that has no option for working from home has higher `Burn Rate` compared to people that has opt to work from home."
   ]
  },
  {
   "cell_type": "code",
   "execution_count": 84,
   "metadata": {},
   "outputs": [
    {
     "data": {
      "image/png": "[encoded data removed]",
      "text/plain": [
       "<Figure size 3456x1440 with 3 Axes>"
      ]
     },
     "metadata": {},
     "output_type": "display_data"
    }
   ],
   "source": [
    "# Numerical Bivariate Analysis\n",
    "fig, ax = plt.subplots(3,1, figsize=(24 * 2, 20))\n",
    "fig.suptitle('Burn Rate', fontsize=25, weight='bold')\n",
    "\n",
    "sns.boxplot(data=df, x='Designation', y='Burn_Rate', ax=ax[0])\n",
    "ax[0].set_title('With Designation', weight='bold', fontsize=20)\n",
    "\n",
    "sns.boxplot(data=df, x='Resource_Allocation', y='Burn_Rate', ax=ax[1])\n",
    "ax[1].set_title('With Resource Allocation', weight='bold', fontsize=20)\n",
    "\n",
    "sns.lineplot(data=df, x='Mental_Fatigue_Score', y='Burn_Rate', ax=ax[2])\n",
    "ax[2].set_title('With Mental Fatigue Score', weight='bold', fontsize=20)\n",
    "\n",
    "plt.show()"
   ]
  },
  {
   "cell_type": "markdown",
   "metadata": {},
   "source": [
    "Based from graph above, We can see that:\n",
    "- `With Designation` : As `Designation` increase, `Burn Rate` also tends to increase.\n",
    "- `With Resource Allocation` : As `Resource Allocation` increase, `Burn Rate` also tends to increase.\n",
    "- `Mental Fatigue Designation` : As `Mental Fatigue` increase, `Burn Rate` also tends to increase."
   ]
  },
  {
   "cell_type": "markdown",
   "metadata": {},
   "source": [
    "**Multivariate Analysis**"
   ]
  },
  {
   "cell_type": "code",
   "execution_count": 85,
   "metadata": {},
   "outputs": [
    {
     "data": {
      "image/png": "[encoded data removed]",
      "text/plain": [
       "<Figure size 1440x720 with 1 Axes>"
      ]
     },
     "metadata": {},
     "output_type": "display_data"
    }
   ],
   "source": [
    "# Checking correlation between target variable and input variables\n",
    "\n",
    "df.corrwith(df['Burn_Rate']).sort_values().plot.bar(figsize=(20,10), title='Correlation with `Burn_Rate`', fontsize=12, rot=45, grid=True)\n",
    "plt.show()"
   ]
  },
  {
   "cell_type": "markdown",
   "metadata": {},
   "source": [
    "Based on graph above, I can say that all features has high positive correlation with `Burn_Rate.`\n",
    "\n",
    "Also from the correaltion above, I can validate the pattern found on `bivaraite analysis` in the previous process."
   ]
  },
  {
   "cell_type": "markdown",
   "metadata": {},
   "source": [
    "## Model Analysis"
   ]
  },
  {
   "cell_type": "markdown",
   "metadata": {},
   "source": [
    "**Model-Algortihm**\n",
    "\n",
    "In this project I will use these algorithms :\n",
    "- Linear Regression\n",
    "- Elastic Net\n",
    "- Support Vector Machine - Regression\n",
    "- Decision Tree\n",
    "- Random Forest"
   ]
  },
  {
   "cell_type": "markdown",
   "metadata": {},
   "source": [
    "**Model Evaluation**\n",
    "\n",
    "I will use these error metrics for evaluating my model:\n",
    "- MAE: Mean Absolute Error\n",
    "- r2 Score: r-squared score"
   ]
  },
  {
   "cell_type": "markdown",
   "metadata": {},
   "source": [
    "**Cross Validation Result**"
   ]
  },
  {
   "cell_type": "code",
   "execution_count": 86,
   "metadata": {},
   "outputs": [
    {
     "data": {
      "text/html": [
       "<div>\n",
       "<style scoped>\n",
       "    .dataframe tbody tr th:only-of-type {\n",
       "        vertical-align: middle;\n",
       "    }\n",
       "\n",
       "    .dataframe tbody tr th {\n",
       "        vertical-align: top;\n",
       "    }\n",
       "\n",
       "    .dataframe thead th {\n",
       "        text-align: right;\n",
       "    }\n",
       "</style>\n",
       "<table border=\"1\" class=\"dataframe\">\n",
       "  <thead>\n",
       "    <tr style=\"text-align: right;\">\n",
       "      <th></th>\n",
       "      <th>models</th>\n",
       "      <th>mean_score</th>\n",
       "      <th>stdev_score</th>\n",
       "    </tr>\n",
       "  </thead>\n",
       "  <tbody>\n",
       "    <tr>\n",
       "      <th>4</th>\n",
       "      <td>rfr</td>\n",
       "      <td>0.8931</td>\n",
       "      <td>0.0022</td>\n",
       "    </tr>\n",
       "    <tr>\n",
       "      <th>2</th>\n",
       "      <td>svr</td>\n",
       "      <td>0.8893</td>\n",
       "      <td>0.0046</td>\n",
       "    </tr>\n",
       "    <tr>\n",
       "      <th>3</th>\n",
       "      <td>dtr</td>\n",
       "      <td>0.8763</td>\n",
       "      <td>0.0036</td>\n",
       "    </tr>\n",
       "    <tr>\n",
       "      <th>0</th>\n",
       "      <td>lr</td>\n",
       "      <td>0.8701</td>\n",
       "      <td>0.0038</td>\n",
       "    </tr>\n",
       "    <tr>\n",
       "      <th>1</th>\n",
       "      <td>en</td>\n",
       "      <td>-0.0005</td>\n",
       "      <td>0.0003</td>\n",
       "    </tr>\n",
       "  </tbody>\n",
       "</table>\n",
       "</div>"
      ],
      "text/plain": [
       "  models  mean_score  stdev_score\n",
       "4    rfr      0.8931       0.0022\n",
       "2    svr      0.8893       0.0046\n",
       "3    dtr      0.8763       0.0036\n",
       "0     lr      0.8701       0.0038\n",
       "1     en     -0.0005       0.0003"
      ]
     },
     "execution_count": 86,
     "metadata": {},
     "output_type": "execute_result"
    }
   ],
   "source": [
    "# Showing the result\n",
    "cv_result.sort_values(by='mean_score', ascending=False)"
   ]
  },
  {
   "cell_type": "markdown",
   "metadata": {},
   "source": [
    "Based on result above, we can see the top model is `Random Forest Regressor`, it has the best `mean_score` and lowest `stdev_score`.\\\n",
    "I decided to chose top two algorithm and tune it then compare it again."
   ]
  },
  {
   "cell_type": "markdown",
   "metadata": {},
   "source": [
    "**Hyper Parameter Tuning Results**\n"
   ]
  },
  {
   "cell_type": "markdown",
   "metadata": {},
   "source": [
    "The best hyper parameter setting for `Random Forest Regressor` are:\n",
    "- criterion: `absolute_error`\n",
    "- max_features: `sqrt`\n",
    "- warm_start: `True`\n",
    "\n",
    "The best hyper parameter setting for `Support Vector Machine - Regressor` are:\n",
    "- C: `1`\n",
    "- degree: `2`\n",
    "- kernel: `rbf`"
   ]
  },
  {
   "cell_type": "markdown",
   "metadata": {},
   "source": [
    "**Performance Summary**"
   ]
  },
  {
   "cell_type": "markdown",
   "metadata": {},
   "source": [
    "**Random Forest Regressor**"
   ]
  },
  {
   "cell_type": "code",
   "execution_count": 87,
   "metadata": {},
   "outputs": [
    {
     "name": "stdout",
     "output_type": "stream",
     "text": [
      "___________________ Train Results (Random Forest Regressor) ____________________\n",
      "MAE: 0.04\n",
      "R-squared Score: 0.93\n",
      "___________________ Test Results (Random Forest Regressor) _____________________\n",
      "MAE: 0.05\n",
      "R-squared Score: 0.9\n",
      "___________________ Differences _________________________________________________\n",
      "MAE: 0.01\n",
      "R-squared Score: -0.03\n"
     ]
    }
   ],
   "source": [
    "# Evaluation for training phase\n",
    "print('___________________ Train Results (Random Forest Regressor) ____________________')\n",
    "print('MAE:',round(mean_absolute_error(y_train,y_train_pred_1),2))\n",
    "print('R-squared Score:',round(r2_score(y_train,y_train_pred_1),2))\n",
    "\n",
    "# Evaluation for testing phase\n",
    "print('___________________ Test Results (Random Forest Regressor) _____________________')\n",
    "print('MAE:',round(mean_absolute_error(y_test,y_test_pred_1),2))\n",
    "print('R-squared Score:',round(r2_score(y_test,y_test_pred_1),2))\n",
    "\n",
    "# Differences\n",
    "print('___________________ Differences _________________________________________________')\n",
    "print('MAE:',(round(mean_absolute_error(y_test,y_test_pred_1),2) - round(mean_absolute_error(y_train,y_train_pred_1),2)).round(2))\n",
    "print('R-squared Score:',(round(r2_score(y_test,y_test_pred_1),2) - round(r2_score(y_train,y_train_pred_1),2)).round(2))"
   ]
  },
  {
   "cell_type": "markdown",
   "metadata": {},
   "source": [
    "**Support Vector Machine - Regression**"
   ]
  },
  {
   "cell_type": "code",
   "execution_count": 88,
   "metadata": {},
   "outputs": [
    {
     "name": "stdout",
     "output_type": "stream",
     "text": [
      "___________________ Test Results (Support Vector Regression) _____________________\n",
      "MAE: 0.05\n",
      "R-squared Score: 0.89\n",
      "___________________ Test Results (Support Vector Regression) _____________________\n",
      "MAE: 0.05\n",
      "R-squared Score: 0.89\n",
      "___________________ Differences _________________________________________________\n",
      "MAE: 0.0\n",
      "R-squared Score: 0.0\n"
     ]
    }
   ],
   "source": [
    "# Evaluation for training phase\n",
    "print('___________________ Test Results (Support Vector Regression) _____________________')\n",
    "print('MAE:',round(mean_absolute_error(y_train,y_train_pred_2),2))\n",
    "print('R-squared Score:',round(r2_score(y_train,y_train_pred_2),2))\n",
    "\n",
    "# Evaluation for testing phase\n",
    "print('___________________ Test Results (Support Vector Regression) _____________________')\n",
    "print('MAE:',round(mean_absolute_error(y_test,y_test_pred_2),2))\n",
    "print('R-squared Score:',round(r2_score(y_test,y_test_pred_2),2))\n",
    "\n",
    "# Differences\n",
    "print('___________________ Differences _________________________________________________')\n",
    "print('MAE:',(round(mean_absolute_error(y_test,y_test_pred_2),2) - round(mean_absolute_error(y_train,y_train_pred_2),2)).round(2))\n",
    "print('R-squared Score:',(round(r2_score(y_test,y_test_pred_2),2) - round(r2_score(y_train,y_train_pred_2),2)).round(2))"
   ]
  },
  {
   "cell_type": "markdown",
   "metadata": {},
   "source": [
    "**Model Analysis Conclusion**\n",
    "\n",
    "- Both model shows pretty good performance.\n",
    "- `Random Forest Regressor` shows lower `MAE Score` and higher `r squared score`, but has 3% differences between `training and testing phase`. This mean `Random Forest Regressor` show slight `overfit` nature.\n",
    "- `Support Vector Machine - Regression` shows similar `MAE Score` and lower `r squared score`, but has 0% differences between `training and testing phase`. This mean `Support Vector Machine - Regression` show `goodfit` nature.\n",
    "- Regardless of the model's fit nature, both model has high `r squared score`. This mean the dataset fits pretty well with the model.\n",
    "\n",
    "Since `Support Vector Machine - Regression` show `goodfit` nature, I decided to use it as my final model."
   ]
  },
  {
   "cell_type": "markdown",
   "metadata": {},
   "source": [
    "## XI. Room for Improvement"
   ]
  },
  {
   "cell_type": "markdown",
   "metadata": {},
   "source": [
    "In the beginning of the project, I have stated the `dataset limitation and assumptions` for the project. I think those two heavily influence the prediction model's nature in estimating the `Burn Rate` value. For further improvement of the model's accuracy, I can advised to:\n",
    "\n",
    "> - Collect more records from more employee across different `Date of Joining`\n",
    "> - Add more detailed workfield information (e.g. 'office worker', 'healthcare worker', 'retail worker', etc.) besides `Company Type`\n",
    "> - Add more physical and health related information of each employee (e.g. 'age', 'marital status', etc.)\n",
    "\n",
    "I'll save this work for later time or for whomever have same interest for this project."
   ]
  }
 ],
 "metadata": {
  "interpreter": {
   "hash": "2ae274a990724d11e4bcb5d86d62fd1b7c46f8feb3ee4d0f6187073d22ba77ef"
  },
  "kernelspec": {
   "display_name": "Python 3.10.2 64-bit (windows store)",
   "language": "python",
   "name": "python3"
  },
  "language_info": {
   "codemirror_mode": {
    "name": "ipython",
    "version": 3
   },
   "file_extension": ".py",
   "mimetype": "text/x-python",
   "name": "python",
   "nbconvert_exporter": "python",
   "pygments_lexer": "ipython3",
   "version": "3.10.4"
  },
  "orig_nbformat": 4
 },
 "nbformat": 4,
 "nbformat_minor": 2
}
